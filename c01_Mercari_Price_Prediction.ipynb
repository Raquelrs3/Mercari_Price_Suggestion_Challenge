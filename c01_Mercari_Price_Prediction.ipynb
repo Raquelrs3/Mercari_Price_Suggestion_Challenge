{
 "cells": [
  {
   "cell_type": "markdown",
   "id": "ba3684a6",
   "metadata": {},
   "source": [
    "# 0.0 Imports"
   ]
  },
  {
   "cell_type": "code",
   "execution_count": 2,
   "id": "5a40542c",
   "metadata": {
    "ExecuteTime": {
     "end_time": "2022-06-09T04:46:13.281353Z",
     "start_time": "2022-06-09T04:46:08.566143Z"
    }
   },
   "outputs": [
    {
     "name": "stderr",
     "output_type": "stream",
     "text": [
      "<frozen importlib._bootstrap>:219: RuntimeWarning: scipy._lib.messagestream.MessageStream size changed, may indicate binary incompatibility. Expected 56 from C header, got 64 from PyObject\n",
      "/Users/raquelrocha/opt/anaconda3/envs/env_ds/lib/python3.8/site-packages/xgboost/compat.py:36: FutureWarning: pandas.Int64Index is deprecated and will be removed from pandas in a future version. Use pandas.Index with the appropriate dtype instead.\n",
      "  from pandas import MultiIndex, Int64Index\n"
     ]
    },
    {
     "data": {
      "text/plain": [
       "'1.4.1'"
      ]
     },
     "execution_count": 2,
     "metadata": {},
     "output_type": "execute_result"
    }
   ],
   "source": [
    "import sweetviz \n",
    "\n",
    "import math\n",
    "import inflection\n",
    "import pickle\n",
    "import random\n",
    "import warnings\n",
    "import requests\n",
    "import pandas              as pd\n",
    "import numpy               as np\n",
    "import seaborn             as sns\n",
    "import matplotlib.gridspec as gridspec\n",
    "import xgboost             as xgb\n",
    "\n",
    "import json\n",
    "\n",
    "from scipy      import stats  as ss\n",
    "from matplotlib import pyplot as plt\n",
    "\n",
    "from tabulate              import tabulate\n",
    "from IPython.core.display  import HTML\n",
    "from IPython.display       import Image\n",
    "\n",
    "from boruta                import BorutaPy\n",
    "from sklearn.ensemble      import RandomForestRegressor\n",
    "\n",
    "from sklearn.preprocessing import RobustScaler, MinMaxScaler, LabelEncoder\n",
    "\n",
    "from sklearn.metrics       import mean_absolute_error, mean_squared_error #mean_absolute_percentage_error,\n",
    "from sklearn.linear_model  import LinearRegression, Lasso\n",
    "\n",
    "import datetime\n",
    "\n",
    "warnings.filterwarnings (\"ignore\") \n",
    "\n",
    "pd.__version__\n"
   ]
  },
  {
   "cell_type": "markdown",
   "id": "8e7832da",
   "metadata": {},
   "source": [
    "## 0.1 Helper Functions"
   ]
  },
  {
   "cell_type": "code",
   "execution_count": 3,
   "id": "5c85b0ee",
   "metadata": {
    "ExecuteTime": {
     "end_time": "2022-06-09T04:46:14.371473Z",
     "start_time": "2022-06-09T04:46:14.293428Z"
    }
   },
   "outputs": [],
   "source": [
    "def cross_validation(X_training, kfold, model_name, model, verbose=False):\n",
    "    mae_list = []\n",
    "    mape_list = []\n",
    "    rmse_list = []\n",
    "    for k in reversed(range(1,kfold+1)):\n",
    "        if verbose:\n",
    "            print(\"\\nKFold Number:{}\".format(k))\n",
    "\n",
    "        # start and end date for validation\n",
    "        validation_start_date = X_training[\"date\"].max() - datetime.timedelta(days=k*6*7) # ao alterar o número 1 e 0 abaixo, vai mudando o tempo do k=1 k=2 k=3 etapas d ciclo do cross validation, p.s. colocamos a função usando o k no lugar do número\n",
    "        validation_end_date = X_training[\"date\"].max() - datetime.timedelta(days=(k-1)*6*7)\n",
    "\n",
    "        # filtering dataset\n",
    "        training = X_training[X_training[\"date\"] < validation_start_date]\n",
    "        validation = X_training[(X_training[\"date\"] >= validation_start_date) & (X_training[\"date\"] <= validation_end_date)]\n",
    "\n",
    "        # training and validation dataset\n",
    "        # Training\n",
    "        Xtraining = training.drop([\"date\", \"sales\"], axis=1)\n",
    "        Ytraining = training[\"sales\"]\n",
    "\n",
    "        # Validation\n",
    "        Xvalidation = validation.drop([\"date\", \"sales\"], axis=1)\n",
    "        Yvalidation = validation[\"sales\"]\n",
    "\n",
    "        # model\n",
    "        m = model.fit(Xtraining, Ytraining)\n",
    "        \n",
    "        # prediction\n",
    "        yhat = m.predict(Xvalidation)                        \n",
    "        \n",
    "        # performance   \n",
    "        m_result = ml_error(model_name, np.expm1(Yvalidation), np.expm1(yhat))\n",
    "\n",
    "        # Store performance of each kfold iteration\n",
    "        mae_list.append(m_result[\"MAE\"])\n",
    "        mape_list.append(m_result[\"MAPE\"])\n",
    "        rmse_list.append(m_result[\"RMSE\"])\n",
    "\n",
    "    return pd.DataFrame ({\"Model Name\": model_name,\n",
    "                      \"MAE CV\": np.round(np.mean(mae_list),2).astype(str)+ ' +/- ' + np.round(np.std(mae_list), 2).astype(str),\n",
    "                      \"MAPE CV\": np.round(np.mean(mape_list),2).astype(str)+ ' +/- ' + np.round(np.std(mape_list), 2).astype(str),\n",
    "                      \"RMSE CV\": np.round(np.mean(rmse_list),2).astype(str)+ ' +/- ' + np.round(np.std(rmse_list), 2).astype(str)}, index =[0])\n",
    "\n",
    "\n",
    "def mean_absolute_percentage_error (y,yhat):\n",
    "    return np.mean(np.abs(y - yhat) / y)\n",
    "\n",
    "\n",
    "def ml_error (model_name, y, yhat):\n",
    "    mae = mean_absolute_error (y, yhat)\n",
    "    mape = mean_absolute_percentage_error (y, yhat)\n",
    "    rmse = np.sqrt(mean_squared_error(y,yhat))\n",
    "    \n",
    "    return pd.DataFrame({\"Model Name\": model_name,\n",
    "                        \"MAE\": mae,\n",
    "                        \"MAPE\": mape,\n",
    "                        \"RMSE\":rmse}, index=[0])\n",
    "\n",
    "\n",
    "def cramer_v( x, y):\n",
    "    cm = pd.crosstab(x, y).to_numpy()\n",
    "    n = cm.sum()\n",
    "    r,k = cm.shape\n",
    "    \n",
    "    chi2 = stats.chi2_contingency(cm)[0]\n",
    "    chi2corr = max(0 , chi2 - (k-1)*(r-1)/(n-1))\n",
    "    kcorr = k - (k-1)**2/(n-1)\n",
    "    rcorr = r - (r-1)**2/(n-1)\n",
    "   \n",
    "    return np.sqrt( (chi2corr/n) / (min( kcorr-1, rcorr-1 ) ) )  \n",
    "\n",
    "def cramers_v_df(categorical_features):\n",
    "\n",
    "    rows= []\n",
    "\n",
    "    for var1 in categorical_features:\n",
    "\n",
    "        col = []\n",
    "\n",
    "        for var2 in categorical_features:\n",
    "            cramers =cramer_v(categorical_features[var1], categorical_features[var2]) \n",
    "            col.append(round(cramers,3)) \n",
    "\n",
    "        rows.append(col)\n",
    "\n",
    "    cramers_results = np.array(rows)\n",
    "    df = pd.DataFrame(cramers_results, columns=categorical_features.columns, index=categorical_features.columns)\n",
    "\n",
    "    return df\n",
    "\n",
    "def jupyter_settings():\n",
    "    %matplotlib inline\n",
    "\n",
    "    plt.style.use( 'bmh' )\n",
    "    plt.rcParams['figure.figsize'] = [25, 12]\n",
    "    plt.rcParams['font.size'] = 24\n",
    "\n",
    "    display( HTML( '<style>.container { width:100% !important; }</style>') )\n",
    "    pd.options.display.max_columns = None\n",
    "    pd.options.display.max_rows = None\n",
    "    pd.set_option( 'display.expand_frame_repr', False )\n",
    "\n",
    "sns.set()\n",
    "  "
   ]
  },
  {
   "cell_type": "code",
   "execution_count": 4,
   "id": "2dcc11ff",
   "metadata": {
    "ExecuteTime": {
     "end_time": "2022-06-09T04:46:15.269473Z",
     "start_time": "2022-06-09T04:46:15.257705Z"
    },
    "scrolled": true
   },
   "outputs": [
    {
     "data": {
      "text/html": [
       "<style>.container { width:100% !important; }</style>"
      ],
      "text/plain": [
       "<IPython.core.display.HTML object>"
      ]
     },
     "metadata": {},
     "output_type": "display_data"
    }
   ],
   "source": [
    "jupyter_settings()"
   ]
  },
  {
   "cell_type": "markdown",
   "id": "50b69878",
   "metadata": {},
   "source": [
    "## 0.2 Loading Data"
   ]
  },
  {
   "cell_type": "code",
   "execution_count": 5,
   "id": "d702732e",
   "metadata": {
    "ExecuteTime": {
     "end_time": "2022-06-09T04:46:59.123354Z",
     "start_time": "2022-06-09T04:46:18.288764Z"
    }
   },
   "outputs": [],
   "source": [
    "df_test_raw= pd.read_csv(\"/Users/raquelrocha/documents/ProjetosComunidadeDS/DSProducao/data_mercari/test_stg2.tsv\", sep = '\\t')\n",
    "df_train_raw= pd.read_csv(\"/Users/raquelrocha/documents/ProjetosComunidadeDS/DSProducao/data_mercari/train.tsv\", sep = '\\t')\n"
   ]
  },
  {
   "cell_type": "code",
   "execution_count": 6,
   "id": "f6f1374d",
   "metadata": {
    "ExecuteTime": {
     "end_time": "2022-06-09T02:35:35.872011Z",
     "start_time": "2022-06-09T02:35:35.845092Z"
    }
   },
   "outputs": [
    {
     "data": {
      "text/html": [
       "<div>\n",
       "<style scoped>\n",
       "    .dataframe tbody tr th:only-of-type {\n",
       "        vertical-align: middle;\n",
       "    }\n",
       "\n",
       "    .dataframe tbody tr th {\n",
       "        vertical-align: top;\n",
       "    }\n",
       "\n",
       "    .dataframe thead th {\n",
       "        text-align: right;\n",
       "    }\n",
       "</style>\n",
       "<table border=\"1\" class=\"dataframe\">\n",
       "  <thead>\n",
       "    <tr style=\"text-align: right;\">\n",
       "      <th></th>\n",
       "      <th>test_id</th>\n",
       "      <th>name</th>\n",
       "      <th>item_condition_id</th>\n",
       "      <th>category_name</th>\n",
       "      <th>brand_name</th>\n",
       "      <th>shipping</th>\n",
       "      <th>item_description</th>\n",
       "    </tr>\n",
       "  </thead>\n",
       "  <tbody>\n",
       "    <tr>\n",
       "      <th>0</th>\n",
       "      <td>0</td>\n",
       "      <td>Breast cancer \"I fight like a girl\" ring</td>\n",
       "      <td>1</td>\n",
       "      <td>Women/Jewelry/Rings</td>\n",
       "      <td>NaN</td>\n",
       "      <td>1</td>\n",
       "      <td>Size 7</td>\n",
       "    </tr>\n",
       "    <tr>\n",
       "      <th>1</th>\n",
       "      <td>1</td>\n",
       "      <td>25 pcs NEW 7.5\"x12\" Kraft Bubble Mailers</td>\n",
       "      <td>1</td>\n",
       "      <td>Other/Office supplies/Shipping Supplies</td>\n",
       "      <td>NaN</td>\n",
       "      <td>1</td>\n",
       "      <td>25 pcs NEW 7.5\"x12\" Kraft Bubble Mailers Lined...</td>\n",
       "    </tr>\n",
       "    <tr>\n",
       "      <th>2</th>\n",
       "      <td>2</td>\n",
       "      <td>Coach bag</td>\n",
       "      <td>1</td>\n",
       "      <td>Vintage &amp; Collectibles/Bags and Purses/Handbag</td>\n",
       "      <td>Coach</td>\n",
       "      <td>1</td>\n",
       "      <td>Brand new coach bag. Bought for [rm] at a Coac...</td>\n",
       "    </tr>\n",
       "    <tr>\n",
       "      <th>3</th>\n",
       "      <td>3</td>\n",
       "      <td>Floral Kimono</td>\n",
       "      <td>2</td>\n",
       "      <td>Women/Sweaters/Cardigan</td>\n",
       "      <td>NaN</td>\n",
       "      <td>0</td>\n",
       "      <td>-floral kimono -never worn -lightweight and pe...</td>\n",
       "    </tr>\n",
       "    <tr>\n",
       "      <th>4</th>\n",
       "      <td>4</td>\n",
       "      <td>Life after Death</td>\n",
       "      <td>3</td>\n",
       "      <td>Other/Books/Religion &amp; Spirituality</td>\n",
       "      <td>NaN</td>\n",
       "      <td>1</td>\n",
       "      <td>Rediscovering life after the loss of a loved o...</td>\n",
       "    </tr>\n",
       "  </tbody>\n",
       "</table>\n",
       "</div>"
      ],
      "text/plain": [
       "   test_id                                      name  item_condition_id                                   category_name brand_name  shipping                                   item_description\n",
       "0        0  Breast cancer \"I fight like a girl\" ring                  1                             Women/Jewelry/Rings        NaN         1                                             Size 7\n",
       "1        1  25 pcs NEW 7.5\"x12\" Kraft Bubble Mailers                  1         Other/Office supplies/Shipping Supplies        NaN         1  25 pcs NEW 7.5\"x12\" Kraft Bubble Mailers Lined...\n",
       "2        2                                 Coach bag                  1  Vintage & Collectibles/Bags and Purses/Handbag      Coach         1  Brand new coach bag. Bought for [rm] at a Coac...\n",
       "3        3                             Floral Kimono                  2                         Women/Sweaters/Cardigan        NaN         0  -floral kimono -never worn -lightweight and pe...\n",
       "4        4                          Life after Death                  3             Other/Books/Religion & Spirituality        NaN         1  Rediscovering life after the loss of a loved o..."
      ]
     },
     "execution_count": 6,
     "metadata": {},
     "output_type": "execute_result"
    }
   ],
   "source": [
    "df_test_raw.head()"
   ]
  },
  {
   "cell_type": "code",
   "execution_count": 7,
   "id": "d81f2a28",
   "metadata": {
    "ExecuteTime": {
     "end_time": "2022-06-09T02:35:36.578403Z",
     "start_time": "2022-06-09T02:35:36.559748Z"
    }
   },
   "outputs": [
    {
     "data": {
      "text/html": [
       "<div>\n",
       "<style scoped>\n",
       "    .dataframe tbody tr th:only-of-type {\n",
       "        vertical-align: middle;\n",
       "    }\n",
       "\n",
       "    .dataframe tbody tr th {\n",
       "        vertical-align: top;\n",
       "    }\n",
       "\n",
       "    .dataframe thead th {\n",
       "        text-align: right;\n",
       "    }\n",
       "</style>\n",
       "<table border=\"1\" class=\"dataframe\">\n",
       "  <thead>\n",
       "    <tr style=\"text-align: right;\">\n",
       "      <th></th>\n",
       "      <th>train_id</th>\n",
       "      <th>name</th>\n",
       "      <th>item_condition_id</th>\n",
       "      <th>category_name</th>\n",
       "      <th>brand_name</th>\n",
       "      <th>price</th>\n",
       "      <th>shipping</th>\n",
       "      <th>item_description</th>\n",
       "    </tr>\n",
       "  </thead>\n",
       "  <tbody>\n",
       "    <tr>\n",
       "      <th>0</th>\n",
       "      <td>0</td>\n",
       "      <td>MLB Cincinnati Reds T Shirt Size XL</td>\n",
       "      <td>3</td>\n",
       "      <td>Men/Tops/T-shirts</td>\n",
       "      <td>NaN</td>\n",
       "      <td>10.0</td>\n",
       "      <td>1</td>\n",
       "      <td>No description yet</td>\n",
       "    </tr>\n",
       "    <tr>\n",
       "      <th>1</th>\n",
       "      <td>1</td>\n",
       "      <td>Razer BlackWidow Chroma Keyboard</td>\n",
       "      <td>3</td>\n",
       "      <td>Electronics/Computers &amp; Tablets/Components &amp; P...</td>\n",
       "      <td>Razer</td>\n",
       "      <td>52.0</td>\n",
       "      <td>0</td>\n",
       "      <td>This keyboard is in great condition and works ...</td>\n",
       "    </tr>\n",
       "    <tr>\n",
       "      <th>2</th>\n",
       "      <td>2</td>\n",
       "      <td>AVA-VIV Blouse</td>\n",
       "      <td>1</td>\n",
       "      <td>Women/Tops &amp; Blouses/Blouse</td>\n",
       "      <td>Target</td>\n",
       "      <td>10.0</td>\n",
       "      <td>1</td>\n",
       "      <td>Adorable top with a hint of lace and a key hol...</td>\n",
       "    </tr>\n",
       "    <tr>\n",
       "      <th>3</th>\n",
       "      <td>3</td>\n",
       "      <td>Leather Horse Statues</td>\n",
       "      <td>1</td>\n",
       "      <td>Home/Home Décor/Home Décor Accents</td>\n",
       "      <td>NaN</td>\n",
       "      <td>35.0</td>\n",
       "      <td>1</td>\n",
       "      <td>New with tags. Leather horses. Retail for [rm]...</td>\n",
       "    </tr>\n",
       "    <tr>\n",
       "      <th>4</th>\n",
       "      <td>4</td>\n",
       "      <td>24K GOLD plated rose</td>\n",
       "      <td>1</td>\n",
       "      <td>Women/Jewelry/Necklaces</td>\n",
       "      <td>NaN</td>\n",
       "      <td>44.0</td>\n",
       "      <td>0</td>\n",
       "      <td>Complete with certificate of authenticity</td>\n",
       "    </tr>\n",
       "  </tbody>\n",
       "</table>\n",
       "</div>"
      ],
      "text/plain": [
       "   train_id                                 name  item_condition_id                                      category_name brand_name  price  shipping                                   item_description\n",
       "0         0  MLB Cincinnati Reds T Shirt Size XL                  3                                  Men/Tops/T-shirts        NaN   10.0         1                                 No description yet\n",
       "1         1     Razer BlackWidow Chroma Keyboard                  3  Electronics/Computers & Tablets/Components & P...      Razer   52.0         0  This keyboard is in great condition and works ...\n",
       "2         2                       AVA-VIV Blouse                  1                        Women/Tops & Blouses/Blouse     Target   10.0         1  Adorable top with a hint of lace and a key hol...\n",
       "3         3                Leather Horse Statues                  1                 Home/Home Décor/Home Décor Accents        NaN   35.0         1  New with tags. Leather horses. Retail for [rm]...\n",
       "4         4                 24K GOLD plated rose                  1                            Women/Jewelry/Necklaces        NaN   44.0         0          Complete with certificate of authenticity"
      ]
     },
     "execution_count": 7,
     "metadata": {},
     "output_type": "execute_result"
    }
   ],
   "source": [
    "df_train_raw.head()"
   ]
  },
  {
   "cell_type": "code",
   "execution_count": 8,
   "id": "b4e5d5e6",
   "metadata": {
    "ExecuteTime": {
     "end_time": "2022-06-09T02:35:37.253064Z",
     "start_time": "2022-06-09T02:35:37.234271Z"
    }
   },
   "outputs": [
    {
     "data": {
      "text/html": [
       "<div>\n",
       "<style scoped>\n",
       "    .dataframe tbody tr th:only-of-type {\n",
       "        vertical-align: middle;\n",
       "    }\n",
       "\n",
       "    .dataframe tbody tr th {\n",
       "        vertical-align: top;\n",
       "    }\n",
       "\n",
       "    .dataframe thead th {\n",
       "        text-align: right;\n",
       "    }\n",
       "</style>\n",
       "<table border=\"1\" class=\"dataframe\">\n",
       "  <thead>\n",
       "    <tr style=\"text-align: right;\">\n",
       "      <th></th>\n",
       "      <th>train_id</th>\n",
       "      <th>name</th>\n",
       "      <th>item_condition_id</th>\n",
       "      <th>category_name</th>\n",
       "      <th>brand_name</th>\n",
       "      <th>price</th>\n",
       "      <th>shipping</th>\n",
       "      <th>item_description</th>\n",
       "    </tr>\n",
       "  </thead>\n",
       "  <tbody>\n",
       "    <tr>\n",
       "      <th>1482530</th>\n",
       "      <td>1482530</td>\n",
       "      <td>Free People Inspired Dress</td>\n",
       "      <td>2</td>\n",
       "      <td>Women/Dresses/Mid-Calf</td>\n",
       "      <td>Free People</td>\n",
       "      <td>20.0</td>\n",
       "      <td>1</td>\n",
       "      <td>Lace, says size small but fits medium perfectl...</td>\n",
       "    </tr>\n",
       "    <tr>\n",
       "      <th>1482531</th>\n",
       "      <td>1482531</td>\n",
       "      <td>Little mermaid handmade dress</td>\n",
       "      <td>2</td>\n",
       "      <td>Kids/Girls 2T-5T/Dresses</td>\n",
       "      <td>Disney</td>\n",
       "      <td>14.0</td>\n",
       "      <td>0</td>\n",
       "      <td>Little mermaid handmade dress never worn size 2t</td>\n",
       "    </tr>\n",
       "    <tr>\n",
       "      <th>1482532</th>\n",
       "      <td>1482532</td>\n",
       "      <td>21 day fix containers and eating plan</td>\n",
       "      <td>2</td>\n",
       "      <td>Sports &amp; Outdoors/Exercise/Fitness accessories</td>\n",
       "      <td>NaN</td>\n",
       "      <td>12.0</td>\n",
       "      <td>0</td>\n",
       "      <td>Used once or twice, still in great shape.</td>\n",
       "    </tr>\n",
       "    <tr>\n",
       "      <th>1482533</th>\n",
       "      <td>1482533</td>\n",
       "      <td>World markets lanterns</td>\n",
       "      <td>3</td>\n",
       "      <td>Home/Home Décor/Home Décor Accents</td>\n",
       "      <td>NaN</td>\n",
       "      <td>45.0</td>\n",
       "      <td>1</td>\n",
       "      <td>There is 2 of each one that you see! So 2 red ...</td>\n",
       "    </tr>\n",
       "    <tr>\n",
       "      <th>1482534</th>\n",
       "      <td>1482534</td>\n",
       "      <td>Brand new lux de ville wallet</td>\n",
       "      <td>1</td>\n",
       "      <td>Women/Women's Accessories/Wallets</td>\n",
       "      <td>NaN</td>\n",
       "      <td>22.0</td>\n",
       "      <td>0</td>\n",
       "      <td>New with tag, red with sparkle. Firm price, no...</td>\n",
       "    </tr>\n",
       "  </tbody>\n",
       "</table>\n",
       "</div>"
      ],
      "text/plain": [
       "         train_id                                   name  item_condition_id                                   category_name   brand_name  price  shipping                                   item_description\n",
       "1482530   1482530             Free People Inspired Dress                  2                          Women/Dresses/Mid-Calf  Free People   20.0         1  Lace, says size small but fits medium perfectl...\n",
       "1482531   1482531          Little mermaid handmade dress                  2                        Kids/Girls 2T-5T/Dresses       Disney   14.0         0   Little mermaid handmade dress never worn size 2t\n",
       "1482532   1482532  21 day fix containers and eating plan                  2  Sports & Outdoors/Exercise/Fitness accessories          NaN   12.0         0          Used once or twice, still in great shape.\n",
       "1482533   1482533                 World markets lanterns                  3              Home/Home Décor/Home Décor Accents          NaN   45.0         1  There is 2 of each one that you see! So 2 red ...\n",
       "1482534   1482534          Brand new lux de ville wallet                  1               Women/Women's Accessories/Wallets          NaN   22.0         0  New with tag, red with sparkle. Firm price, no..."
      ]
     },
     "execution_count": 8,
     "metadata": {},
     "output_type": "execute_result"
    }
   ],
   "source": [
    "df_train_raw.tail()"
   ]
  },
  {
   "cell_type": "markdown",
   "id": "79f98b92",
   "metadata": {},
   "source": [
    "# 1.0 Descrição dos Dados"
   ]
  },
  {
   "cell_type": "code",
   "execution_count": 6,
   "id": "540028e3",
   "metadata": {
    "ExecuteTime": {
     "end_time": "2022-06-09T04:47:23.145396Z",
     "start_time": "2022-06-09T04:47:22.908288Z"
    }
   },
   "outputs": [],
   "source": [
    "df1 = df_train_raw.copy()"
   ]
  },
  {
   "cell_type": "markdown",
   "id": "5cacb0b5",
   "metadata": {},
   "source": [
    "## 1.2 Data Dimensions"
   ]
  },
  {
   "cell_type": "code",
   "execution_count": 10,
   "id": "8b59d6de",
   "metadata": {
    "ExecuteTime": {
     "end_time": "2022-06-09T02:35:59.350819Z",
     "start_time": "2022-06-09T02:35:59.340301Z"
    }
   },
   "outputs": [
    {
     "name": "stdout",
     "output_type": "stream",
     "text": [
      "Number of Rows:1482535\n",
      "Number of Cols:8\n"
     ]
    }
   ],
   "source": [
    "print (\"Number of Rows:{}\".format(df1.shape[0]))\n",
    "print (\"Number of Cols:{}\".format(df1.shape[1]))"
   ]
  },
  {
   "cell_type": "markdown",
   "id": "ad44ffb0",
   "metadata": {},
   "source": [
    "## 1.3 Data Types"
   ]
  },
  {
   "cell_type": "code",
   "execution_count": 11,
   "id": "6837a427",
   "metadata": {
    "ExecuteTime": {
     "end_time": "2022-06-09T02:36:01.236153Z",
     "start_time": "2022-06-09T02:36:01.227227Z"
    }
   },
   "outputs": [
    {
     "data": {
      "text/plain": [
       "train_id               int64\n",
       "name                  object\n",
       "item_condition_id      int64\n",
       "category_name         object\n",
       "brand_name            object\n",
       "price                float64\n",
       "shipping               int64\n",
       "item_description      object\n",
       "dtype: object"
      ]
     },
     "execution_count": 11,
     "metadata": {},
     "output_type": "execute_result"
    }
   ],
   "source": [
    "df1.dtypes\n"
   ]
  },
  {
   "cell_type": "markdown",
   "id": "ccf23ec8",
   "metadata": {},
   "source": [
    "## 1.4 Check NA"
   ]
  },
  {
   "cell_type": "code",
   "execution_count": 12,
   "id": "5a33a4a5",
   "metadata": {
    "ExecuteTime": {
     "end_time": "2022-06-09T02:36:04.795196Z",
     "start_time": "2022-06-09T02:36:03.104545Z"
    }
   },
   "outputs": [
    {
     "data": {
      "text/plain": [
       "train_id                  0\n",
       "name                      0\n",
       "item_condition_id         0\n",
       "category_name          6327\n",
       "brand_name           632682\n",
       "price                     0\n",
       "shipping                  0\n",
       "item_description          4\n",
       "dtype: int64"
      ]
     },
     "execution_count": 12,
     "metadata": {},
     "output_type": "execute_result"
    }
   ],
   "source": [
    "df1.isna().sum()"
   ]
  },
  {
   "cell_type": "markdown",
   "id": "8636efb8",
   "metadata": {},
   "source": [
    "## 1.5 Fillout NA (Substituindo os dados faltantes)"
   ]
  },
  {
   "cell_type": "code",
   "execution_count": 13,
   "id": "a9d0ef1a",
   "metadata": {
    "ExecuteTime": {
     "end_time": "2022-06-09T02:36:06.891543Z",
     "start_time": "2022-06-09T02:36:06.677973Z"
    }
   },
   "outputs": [
    {
     "data": {
      "text/html": [
       "<div>\n",
       "<style scoped>\n",
       "    .dataframe tbody tr th:only-of-type {\n",
       "        vertical-align: middle;\n",
       "    }\n",
       "\n",
       "    .dataframe tbody tr th {\n",
       "        vertical-align: top;\n",
       "    }\n",
       "\n",
       "    .dataframe thead th {\n",
       "        text-align: right;\n",
       "    }\n",
       "</style>\n",
       "<table border=\"1\" class=\"dataframe\">\n",
       "  <thead>\n",
       "    <tr style=\"text-align: right;\">\n",
       "      <th></th>\n",
       "      <th>train_id</th>\n",
       "      <th>name</th>\n",
       "      <th>item_condition_id</th>\n",
       "      <th>category_name</th>\n",
       "      <th>brand_name</th>\n",
       "      <th>price</th>\n",
       "      <th>shipping</th>\n",
       "      <th>item_description</th>\n",
       "    </tr>\n",
       "  </thead>\n",
       "  <tbody>\n",
       "    <tr>\n",
       "      <th>1310307</th>\n",
       "      <td>1310307</td>\n",
       "      <td>FREE SHIP Hollister Medium Tee</td>\n",
       "      <td>3</td>\n",
       "      <td>Women/Tops &amp; Blouses/T-Shirts</td>\n",
       "      <td>Hollister</td>\n",
       "      <td>5.0</td>\n",
       "      <td>1</td>\n",
       "      <td>Worn a few times, great condition.</td>\n",
       "    </tr>\n",
       "  </tbody>\n",
       "</table>\n",
       "</div>"
      ],
      "text/plain": [
       "         train_id                            name  item_condition_id                  category_name brand_name  price  shipping                    item_description\n",
       "1310307   1310307  FREE SHIP Hollister Medium Tee                  3  Women/Tops & Blouses/T-Shirts  Hollister    5.0         1  Worn a few times, great condition."
      ]
     },
     "execution_count": 13,
     "metadata": {},
     "output_type": "execute_result"
    }
   ],
   "source": [
    "df1.sample()"
   ]
  },
  {
   "cell_type": "code",
   "execution_count": 14,
   "id": "3754b685",
   "metadata": {
    "ExecuteTime": {
     "end_time": "2022-06-09T02:36:08.409252Z",
     "start_time": "2022-06-09T02:36:07.508697Z"
    }
   },
   "outputs": [],
   "source": [
    "#category_name\n",
    "df1[\"category_name\"].fillna(value= \"sem descrição\", inplace=True)\n",
    "\n",
    "#brand_name\n",
    "df1[\"brand_name\"].fillna(value= \"sem marca\", inplace=True)\n",
    "\n",
    "#item_description\n",
    "df1[\"item_description\"].fillna(value= \"sem descrição\", inplace=True)\n"
   ]
  },
  {
   "cell_type": "code",
   "execution_count": 15,
   "id": "74771b7e",
   "metadata": {
    "ExecuteTime": {
     "end_time": "2022-06-09T02:36:10.235699Z",
     "start_time": "2022-06-09T02:36:08.419886Z"
    },
    "scrolled": true
   },
   "outputs": [
    {
     "data": {
      "text/plain": [
       "train_id             0\n",
       "name                 0\n",
       "item_condition_id    0\n",
       "category_name        0\n",
       "brand_name           0\n",
       "price                0\n",
       "shipping             0\n",
       "item_description     0\n",
       "dtype: int64"
      ]
     },
     "execution_count": 15,
     "metadata": {},
     "output_type": "execute_result"
    }
   ],
   "source": [
    "df1.isna().sum()"
   ]
  },
  {
   "cell_type": "markdown",
   "id": "c160299b",
   "metadata": {},
   "source": [
    "## 1.6 Change Types (Estatística Descritiva)\n"
   ]
  },
  {
   "cell_type": "markdown",
   "id": "58795b0c",
   "metadata": {},
   "source": [
    "## 1.7 Descriptive Statistical "
   ]
  },
  {
   "cell_type": "code",
   "execution_count": 16,
   "id": "602e7522",
   "metadata": {
    "ExecuteTime": {
     "end_time": "2022-06-09T02:36:15.407713Z",
     "start_time": "2022-06-09T02:36:15.396957Z"
    }
   },
   "outputs": [],
   "source": [
    "#numérico\n",
    "num_attributes = df1.select_dtypes(include=[\"int64\", \"float64\"])\n",
    "#categórico\n",
    "cat_attributes = df1.select_dtypes(exclude=[\"int64\", \"float64\",\"datetime64[ns]\"])"
   ]
  },
  {
   "cell_type": "code",
   "execution_count": 17,
   "id": "3ae68717",
   "metadata": {
    "ExecuteTime": {
     "end_time": "2022-06-09T02:36:16.230255Z",
     "start_time": "2022-06-09T02:36:16.035058Z"
    }
   },
   "outputs": [
    {
     "data": {
      "text/html": [
       "<div>\n",
       "<style scoped>\n",
       "    .dataframe tbody tr th:only-of-type {\n",
       "        vertical-align: middle;\n",
       "    }\n",
       "\n",
       "    .dataframe tbody tr th {\n",
       "        vertical-align: top;\n",
       "    }\n",
       "\n",
       "    .dataframe thead th {\n",
       "        text-align: right;\n",
       "    }\n",
       "</style>\n",
       "<table border=\"1\" class=\"dataframe\">\n",
       "  <thead>\n",
       "    <tr style=\"text-align: right;\">\n",
       "      <th></th>\n",
       "      <th>train_id</th>\n",
       "      <th>item_condition_id</th>\n",
       "      <th>price</th>\n",
       "      <th>shipping</th>\n",
       "    </tr>\n",
       "  </thead>\n",
       "  <tbody>\n",
       "    <tr>\n",
       "      <th>860923</th>\n",
       "      <td>860923</td>\n",
       "      <td>3</td>\n",
       "      <td>19.0</td>\n",
       "      <td>0</td>\n",
       "    </tr>\n",
       "    <tr>\n",
       "      <th>174342</th>\n",
       "      <td>174342</td>\n",
       "      <td>1</td>\n",
       "      <td>18.0</td>\n",
       "      <td>1</td>\n",
       "    </tr>\n",
       "    <tr>\n",
       "      <th>1343139</th>\n",
       "      <td>1343139</td>\n",
       "      <td>2</td>\n",
       "      <td>94.0</td>\n",
       "      <td>0</td>\n",
       "    </tr>\n",
       "    <tr>\n",
       "      <th>1238509</th>\n",
       "      <td>1238509</td>\n",
       "      <td>1</td>\n",
       "      <td>16.0</td>\n",
       "      <td>0</td>\n",
       "    </tr>\n",
       "    <tr>\n",
       "      <th>504521</th>\n",
       "      <td>504521</td>\n",
       "      <td>1</td>\n",
       "      <td>50.0</td>\n",
       "      <td>1</td>\n",
       "    </tr>\n",
       "  </tbody>\n",
       "</table>\n",
       "</div>"
      ],
      "text/plain": [
       "         train_id  item_condition_id  price  shipping\n",
       "860923     860923                  3   19.0         0\n",
       "174342     174342                  1   18.0         1\n",
       "1343139   1343139                  2   94.0         0\n",
       "1238509   1238509                  1   16.0         0\n",
       "504521     504521                  1   50.0         1"
      ]
     },
     "execution_count": 17,
     "metadata": {},
     "output_type": "execute_result"
    }
   ],
   "source": [
    "num_attributes.sample(5)"
   ]
  },
  {
   "cell_type": "code",
   "execution_count": 18,
   "id": "098511b5",
   "metadata": {
    "ExecuteTime": {
     "end_time": "2022-06-09T02:36:17.639992Z",
     "start_time": "2022-06-09T02:36:16.910273Z"
    }
   },
   "outputs": [
    {
     "data": {
      "text/html": [
       "<div>\n",
       "<style scoped>\n",
       "    .dataframe tbody tr th:only-of-type {\n",
       "        vertical-align: middle;\n",
       "    }\n",
       "\n",
       "    .dataframe tbody tr th {\n",
       "        vertical-align: top;\n",
       "    }\n",
       "\n",
       "    .dataframe thead th {\n",
       "        text-align: right;\n",
       "    }\n",
       "</style>\n",
       "<table border=\"1\" class=\"dataframe\">\n",
       "  <thead>\n",
       "    <tr style=\"text-align: right;\">\n",
       "      <th></th>\n",
       "      <th>name</th>\n",
       "      <th>category_name</th>\n",
       "      <th>brand_name</th>\n",
       "      <th>item_description</th>\n",
       "    </tr>\n",
       "  </thead>\n",
       "  <tbody>\n",
       "    <tr>\n",
       "      <th>320886</th>\n",
       "      <td>RAE DUNN MAGENTA DISCOVER CRAB CANISTER</td>\n",
       "      <td>Home/Kitchen &amp; Dining/Coffee &amp; Tea Accessories</td>\n",
       "      <td>Rae Dunn</td>\n",
       "      <td>No description yet</td>\n",
       "    </tr>\n",
       "    <tr>\n",
       "      <th>994880</th>\n",
       "      <td>Ray-Ban glasses</td>\n",
       "      <td>Women/Women's Accessories/Sunglasses</td>\n",
       "      <td>Ray-Ban</td>\n",
       "      <td>My prescription is in them but can be replaced...</td>\n",
       "    </tr>\n",
       "    <tr>\n",
       "      <th>339367</th>\n",
       "      <td>20 instant breast bare lift</td>\n",
       "      <td>Beauty/Tools &amp; Accessories/Other</td>\n",
       "      <td>sem marca</td>\n",
       "      <td>20 pcs /Pack (10 pairs) No bra necessary New I...</td>\n",
       "    </tr>\n",
       "    <tr>\n",
       "      <th>173693</th>\n",
       "      <td>Greg peak sport top bundle</td>\n",
       "      <td>Women/Athletic Apparel/Shirts &amp; Tops</td>\n",
       "      <td>Nike</td>\n",
       "      <td>New Nike Dri-Fit Nike Running Size x large Whi...</td>\n",
       "    </tr>\n",
       "    <tr>\n",
       "      <th>418136</th>\n",
       "      <td>Velvet Choker</td>\n",
       "      <td>Women/Jewelry/Necklaces</td>\n",
       "      <td>sem marca</td>\n",
       "      <td>2016 2pcs Vintage Retro Black Velvet Choker Ne...</td>\n",
       "    </tr>\n",
       "  </tbody>\n",
       "</table>\n",
       "</div>"
      ],
      "text/plain": [
       "                                           name                                   category_name brand_name                                   item_description\n",
       "320886  RAE DUNN MAGENTA DISCOVER CRAB CANISTER  Home/Kitchen & Dining/Coffee & Tea Accessories   Rae Dunn                                 No description yet\n",
       "994880                          Ray-Ban glasses            Women/Women's Accessories/Sunglasses    Ray-Ban  My prescription is in them but can be replaced...\n",
       "339367              20 instant breast bare lift                Beauty/Tools & Accessories/Other  sem marca  20 pcs /Pack (10 pairs) No bra necessary New I...\n",
       "173693               Greg peak sport top bundle            Women/Athletic Apparel/Shirts & Tops       Nike  New Nike Dri-Fit Nike Running Size x large Whi...\n",
       "418136                            Velvet Choker                         Women/Jewelry/Necklaces  sem marca  2016 2pcs Vintage Retro Black Velvet Choker Ne..."
      ]
     },
     "execution_count": 18,
     "metadata": {},
     "output_type": "execute_result"
    }
   ],
   "source": [
    "cat_attributes.sample(5)"
   ]
  },
  {
   "cell_type": "markdown",
   "id": "d1936ad1",
   "metadata": {},
   "source": [
    "### 1.7.1 Numerical Attributes "
   ]
  },
  {
   "cell_type": "code",
   "execution_count": 25,
   "id": "fcdc47df",
   "metadata": {
    "ExecuteTime": {
     "end_time": "2022-06-09T02:41:09.023796Z",
     "start_time": "2022-06-09T02:41:04.897125Z"
    }
   },
   "outputs": [
    {
     "data": {
      "text/html": [
       "<div>\n",
       "<style scoped>\n",
       "    .dataframe tbody tr th:only-of-type {\n",
       "        vertical-align: middle;\n",
       "    }\n",
       "\n",
       "    .dataframe tbody tr th {\n",
       "        vertical-align: top;\n",
       "    }\n",
       "\n",
       "    .dataframe thead th {\n",
       "        text-align: right;\n",
       "    }\n",
       "</style>\n",
       "<table border=\"1\" class=\"dataframe\">\n",
       "  <thead>\n",
       "    <tr style=\"text-align: right;\">\n",
       "      <th></th>\n",
       "      <th>attributes</th>\n",
       "      <th>min</th>\n",
       "      <th>max</th>\n",
       "      <th>range</th>\n",
       "      <th>mean</th>\n",
       "      <th>median</th>\n",
       "      <th>std</th>\n",
       "      <th>skew</th>\n",
       "      <th>kurtosis</th>\n",
       "    </tr>\n",
       "  </thead>\n",
       "  <tbody>\n",
       "    <tr>\n",
       "      <th>0</th>\n",
       "      <td>train_id</td>\n",
       "      <td>0.0</td>\n",
       "      <td>1482534.0</td>\n",
       "      <td>1482534.0</td>\n",
       "      <td>741267.000000</td>\n",
       "      <td>741267.0</td>\n",
       "      <td>427970.990666</td>\n",
       "      <td>-3.388148e-15</td>\n",
       "      <td>-1.200000</td>\n",
       "    </tr>\n",
       "    <tr>\n",
       "      <th>1</th>\n",
       "      <td>item_condition_id</td>\n",
       "      <td>1.0</td>\n",
       "      <td>5.0</td>\n",
       "      <td>4.0</td>\n",
       "      <td>1.907380</td>\n",
       "      <td>2.0</td>\n",
       "      <td>0.903158</td>\n",
       "      <td>4.109817e-01</td>\n",
       "      <td>-1.092946</td>\n",
       "    </tr>\n",
       "    <tr>\n",
       "      <th>2</th>\n",
       "      <td>price</td>\n",
       "      <td>0.0</td>\n",
       "      <td>2009.0</td>\n",
       "      <td>2009.0</td>\n",
       "      <td>26.737516</td>\n",
       "      <td>17.0</td>\n",
       "      <td>38.586053</td>\n",
       "      <td>1.139323e+01</td>\n",
       "      <td>283.821669</td>\n",
       "    </tr>\n",
       "    <tr>\n",
       "      <th>3</th>\n",
       "      <td>shipping</td>\n",
       "      <td>0.0</td>\n",
       "      <td>1.0</td>\n",
       "      <td>1.0</td>\n",
       "      <td>0.447274</td>\n",
       "      <td>0.0</td>\n",
       "      <td>0.497212</td>\n",
       "      <td>2.120850e-01</td>\n",
       "      <td>-1.955023</td>\n",
       "    </tr>\n",
       "  </tbody>\n",
       "</table>\n",
       "</div>"
      ],
      "text/plain": [
       "          attributes  min        max      range           mean    median            std          skew    kurtosis\n",
       "0           train_id  0.0  1482534.0  1482534.0  741267.000000  741267.0  427970.990666 -3.388148e-15   -1.200000\n",
       "1  item_condition_id  1.0        5.0        4.0       1.907380       2.0       0.903158  4.109817e-01   -1.092946\n",
       "2              price  0.0     2009.0     2009.0      26.737516      17.0      38.586053  1.139323e+01  283.821669\n",
       "3           shipping  0.0        1.0        1.0       0.447274       0.0       0.497212  2.120850e-01   -1.955023"
      ]
     },
     "execution_count": 25,
     "metadata": {},
     "output_type": "execute_result"
    }
   ],
   "source": [
    "# Central Tendency - Mean Median\n",
    "\n",
    "# média\n",
    "ct1 = pd.DataFrame(num_attributes.apply(np.mean)).T\n",
    "# mediana\n",
    "ct2 = pd.DataFrame(num_attributes.apply(np.median)).T\n",
    "\n",
    "# Dispersion - std, min, max, range, skew, kurtsosis\n",
    "\n",
    "# Desvio padrão\n",
    "d1 = pd.DataFrame(num_attributes.apply(np.std)).T\n",
    "# mínimo\n",
    "d2 = pd.DataFrame(num_attributes.apply(min)).T\n",
    "# máximo\n",
    "d3 = pd.DataFrame(num_attributes.apply(max)).T\n",
    "\n",
    "# Range\n",
    "d4 = pd.DataFrame(num_attributes.apply(lambda x: x.max() - x.min())).T\n",
    "# Skew\n",
    "d5 = pd.DataFrame(num_attributes.apply(lambda x: x.skew())).T\n",
    "# Kurtosis\n",
    "d6 = pd.DataFrame(num_attributes.apply(lambda x: x.kurtosis())).T\n",
    "# shapiro\n",
    "#d7 = pd.DataFrame(num_attributes.apply(lambda x: 'not normal' if shapiro(x.sample(5000))[1] < 0.05 else 'normal')).T\n",
    "\n",
    "\n",
    "# concatenate\n",
    "m = pd.concat([d2, d3, d4, ct1, ct2, d1, d5, d6]).T.reset_index()\n",
    "# name of columns\n",
    "m.columns = ([\"attributes\", \"min\", \" max\", \"range\",\"mean\" ,\"median\" ,\"std\" ,\"skew\" ,\"kurtosis\"])\n",
    "m"
   ]
  },
  {
   "cell_type": "code",
   "execution_count": 26,
   "id": "4ecd2453",
   "metadata": {
    "ExecuteTime": {
     "end_time": "2022-06-09T02:41:50.972797Z",
     "start_time": "2022-06-09T02:41:12.057263Z"
    }
   },
   "outputs": [
    {
     "data": {
      "text/plain": [
       "<AxesSubplot:xlabel='price', ylabel='Density'>"
      ]
     },
     "execution_count": 26,
     "metadata": {},
     "output_type": "execute_result"
    },
    {
     "data": {
      "image/png": "[encoded data removed]",
      "text/plain": [
       "<Figure size 1800x864 with 1 Axes>"
      ]
     },
     "metadata": {
      "needs_background": "light"
     },
     "output_type": "display_data"
    }
   ],
   "source": [
    "# Exemplo da distribuição do preço\n",
    "sns.distplot( df1[\"price\"])"
   ]
  },
  {
   "cell_type": "markdown",
   "id": "d7e12af6",
   "metadata": {},
   "source": [
    "### 1.7.2 Categorical Attributes"
   ]
  },
  {
   "cell_type": "code",
   "execution_count": 27,
   "id": "ab5bc0f0",
   "metadata": {
    "ExecuteTime": {
     "end_time": "2022-06-09T02:42:53.628744Z",
     "start_time": "2022-06-09T02:42:47.479681Z"
    }
   },
   "outputs": [
    {
     "data": {
      "text/plain": [
       "name                1225273\n",
       "category_name          1288\n",
       "brand_name             4810\n",
       "item_description    1281427\n",
       "dtype: int64"
      ]
     },
     "execution_count": 27,
     "metadata": {},
     "output_type": "execute_result"
    }
   ],
   "source": [
    "# níveis que cada variável categórica tem\n",
    "cat_attributes.apply(lambda x: x.unique().shape[0])"
   ]
  },
  {
   "cell_type": "code",
   "execution_count": 28,
   "id": "810db8ba",
   "metadata": {
    "ExecuteTime": {
     "end_time": "2022-06-09T02:05:06.244880Z",
     "start_time": "2022-06-09T02:02:23.167675Z"
    },
    "scrolled": true
   },
   "outputs": [
    {
     "ename": "KeyboardInterrupt",
     "evalue": "",
     "output_type": "error",
     "traceback": [
      "\u001b[0;31m---------------------------------------------------------------------------\u001b[0m",
      "\u001b[0;31mKeyboardInterrupt\u001b[0m                         Traceback (most recent call last)",
      "Input \u001b[0;32mIn [28]\u001b[0m, in \u001b[0;36m<module>\u001b[0;34m\u001b[0m\n\u001b[1;32m      1\u001b[0m plt\u001b[38;5;241m.\u001b[39msubplot(\u001b[38;5;241m3\u001b[39m, \u001b[38;5;241m2\u001b[39m, \u001b[38;5;241m1\u001b[39m)\n\u001b[0;32m----> 2\u001b[0m \u001b[43msns\u001b[49m\u001b[38;5;241;43m.\u001b[39;49m\u001b[43mcountplot\u001b[49m\u001b[43m(\u001b[49m\u001b[43mdf1\u001b[49m\u001b[43m[\u001b[49m\u001b[38;5;124;43m'\u001b[39;49m\u001b[38;5;124;43mname\u001b[39;49m\u001b[38;5;124;43m'\u001b[39;49m\u001b[43m]\u001b[49m\u001b[43m)\u001b[49m;\n\u001b[1;32m      4\u001b[0m plt\u001b[38;5;241m.\u001b[39msubplot(\u001b[38;5;241m3\u001b[39m, \u001b[38;5;241m2\u001b[39m, \u001b[38;5;241m2\u001b[39m)\n\u001b[1;32m      5\u001b[0m sns\u001b[38;5;241m.\u001b[39mcountplot(df1[\u001b[38;5;124m'\u001b[39m\u001b[38;5;124mcategory_name\u001b[39m\u001b[38;5;124m'\u001b[39m]);\n",
      "File \u001b[0;32m~/opt/anaconda3/envs/env_ds/lib/python3.8/site-packages/seaborn/_decorators.py:46\u001b[0m, in \u001b[0;36m_deprecate_positional_args.<locals>.inner_f\u001b[0;34m(*args, **kwargs)\u001b[0m\n\u001b[1;32m     36\u001b[0m     warnings\u001b[38;5;241m.\u001b[39mwarn(\n\u001b[1;32m     37\u001b[0m         \u001b[38;5;124m\"\u001b[39m\u001b[38;5;124mPass the following variable\u001b[39m\u001b[38;5;132;01m{}\u001b[39;00m\u001b[38;5;124m as \u001b[39m\u001b[38;5;132;01m{}\u001b[39;00m\u001b[38;5;124mkeyword arg\u001b[39m\u001b[38;5;132;01m{}\u001b[39;00m\u001b[38;5;124m: \u001b[39m\u001b[38;5;132;01m{}\u001b[39;00m\u001b[38;5;124m. \u001b[39m\u001b[38;5;124m\"\u001b[39m\n\u001b[1;32m     38\u001b[0m         \u001b[38;5;124m\"\u001b[39m\u001b[38;5;124mFrom version 0.12, the only valid positional argument \u001b[39m\u001b[38;5;124m\"\u001b[39m\n\u001b[0;32m   (...)\u001b[0m\n\u001b[1;32m     43\u001b[0m         \u001b[38;5;167;01mFutureWarning\u001b[39;00m\n\u001b[1;32m     44\u001b[0m     )\n\u001b[1;32m     45\u001b[0m kwargs\u001b[38;5;241m.\u001b[39mupdate({k: arg \u001b[38;5;28;01mfor\u001b[39;00m k, arg \u001b[38;5;129;01min\u001b[39;00m \u001b[38;5;28mzip\u001b[39m(sig\u001b[38;5;241m.\u001b[39mparameters, args)})\n\u001b[0;32m---> 46\u001b[0m \u001b[38;5;28;01mreturn\u001b[39;00m \u001b[43mf\u001b[49m\u001b[43m(\u001b[49m\u001b[38;5;241;43m*\u001b[39;49m\u001b[38;5;241;43m*\u001b[39;49m\u001b[43mkwargs\u001b[49m\u001b[43m)\u001b[49m\n",
      "File \u001b[0;32m~/opt/anaconda3/envs/env_ds/lib/python3.8/site-packages/seaborn/categorical.py:3598\u001b[0m, in \u001b[0;36mcountplot\u001b[0;34m(x, y, hue, data, order, hue_order, orient, color, palette, saturation, dodge, ax, **kwargs)\u001b[0m\n\u001b[1;32m   3595\u001b[0m \u001b[38;5;28;01melif\u001b[39;00m x \u001b[38;5;129;01mis\u001b[39;00m \u001b[38;5;129;01mnot\u001b[39;00m \u001b[38;5;28;01mNone\u001b[39;00m \u001b[38;5;129;01mand\u001b[39;00m y \u001b[38;5;129;01mis\u001b[39;00m \u001b[38;5;129;01mnot\u001b[39;00m \u001b[38;5;28;01mNone\u001b[39;00m:\n\u001b[1;32m   3596\u001b[0m     \u001b[38;5;28;01mraise\u001b[39;00m \u001b[38;5;167;01mValueError\u001b[39;00m(\u001b[38;5;124m\"\u001b[39m\u001b[38;5;124mCannot pass values for both `x` and `y`\u001b[39m\u001b[38;5;124m\"\u001b[39m)\n\u001b[0;32m-> 3598\u001b[0m plotter \u001b[38;5;241m=\u001b[39m \u001b[43m_CountPlotter\u001b[49m\u001b[43m(\u001b[49m\n\u001b[1;32m   3599\u001b[0m \u001b[43m    \u001b[49m\u001b[43mx\u001b[49m\u001b[43m,\u001b[49m\u001b[43m \u001b[49m\u001b[43my\u001b[49m\u001b[43m,\u001b[49m\u001b[43m \u001b[49m\u001b[43mhue\u001b[49m\u001b[43m,\u001b[49m\u001b[43m \u001b[49m\u001b[43mdata\u001b[49m\u001b[43m,\u001b[49m\u001b[43m \u001b[49m\u001b[43morder\u001b[49m\u001b[43m,\u001b[49m\u001b[43m \u001b[49m\u001b[43mhue_order\u001b[49m\u001b[43m,\u001b[49m\n\u001b[1;32m   3600\u001b[0m \u001b[43m    \u001b[49m\u001b[43mestimator\u001b[49m\u001b[43m,\u001b[49m\u001b[43m \u001b[49m\u001b[43mci\u001b[49m\u001b[43m,\u001b[49m\u001b[43m \u001b[49m\u001b[43mn_boot\u001b[49m\u001b[43m,\u001b[49m\u001b[43m \u001b[49m\u001b[43munits\u001b[49m\u001b[43m,\u001b[49m\u001b[43m \u001b[49m\u001b[43mseed\u001b[49m\u001b[43m,\u001b[49m\n\u001b[1;32m   3601\u001b[0m \u001b[43m    \u001b[49m\u001b[43morient\u001b[49m\u001b[43m,\u001b[49m\u001b[43m \u001b[49m\u001b[43mcolor\u001b[49m\u001b[43m,\u001b[49m\u001b[43m \u001b[49m\u001b[43mpalette\u001b[49m\u001b[43m,\u001b[49m\u001b[43m \u001b[49m\u001b[43msaturation\u001b[49m\u001b[43m,\u001b[49m\n\u001b[1;32m   3602\u001b[0m \u001b[43m    \u001b[49m\u001b[43merrcolor\u001b[49m\u001b[43m,\u001b[49m\u001b[43m \u001b[49m\u001b[43merrwidth\u001b[49m\u001b[43m,\u001b[49m\u001b[43m \u001b[49m\u001b[43mcapsize\u001b[49m\u001b[43m,\u001b[49m\u001b[43m \u001b[49m\u001b[43mdodge\u001b[49m\n\u001b[1;32m   3603\u001b[0m \u001b[43m\u001b[49m\u001b[43m)\u001b[49m\n\u001b[1;32m   3605\u001b[0m plotter\u001b[38;5;241m.\u001b[39mvalue_label \u001b[38;5;241m=\u001b[39m \u001b[38;5;124m\"\u001b[39m\u001b[38;5;124mcount\u001b[39m\u001b[38;5;124m\"\u001b[39m\n\u001b[1;32m   3607\u001b[0m \u001b[38;5;28;01mif\u001b[39;00m ax \u001b[38;5;129;01mis\u001b[39;00m \u001b[38;5;28;01mNone\u001b[39;00m:\n",
      "File \u001b[0;32m~/opt/anaconda3/envs/env_ds/lib/python3.8/site-packages/seaborn/categorical.py:1584\u001b[0m, in \u001b[0;36m_BarPlotter.__init__\u001b[0;34m(self, x, y, hue, data, order, hue_order, estimator, ci, n_boot, units, seed, orient, color, palette, saturation, errcolor, errwidth, capsize, dodge)\u001b[0m\n\u001b[1;32m   1579\u001b[0m \u001b[38;5;28;01mdef\u001b[39;00m \u001b[38;5;21m__init__\u001b[39m(\u001b[38;5;28mself\u001b[39m, x, y, hue, data, order, hue_order,\n\u001b[1;32m   1580\u001b[0m              estimator, ci, n_boot, units, seed,\n\u001b[1;32m   1581\u001b[0m              orient, color, palette, saturation, errcolor,\n\u001b[1;32m   1582\u001b[0m              errwidth, capsize, dodge):\n\u001b[1;32m   1583\u001b[0m     \u001b[38;5;124;03m\"\"\"Initialize the plotter.\"\"\"\u001b[39;00m\n\u001b[0;32m-> 1584\u001b[0m     \u001b[38;5;28;43mself\u001b[39;49m\u001b[38;5;241;43m.\u001b[39;49m\u001b[43mestablish_variables\u001b[49m\u001b[43m(\u001b[49m\u001b[43mx\u001b[49m\u001b[43m,\u001b[49m\u001b[43m \u001b[49m\u001b[43my\u001b[49m\u001b[43m,\u001b[49m\u001b[43m \u001b[49m\u001b[43mhue\u001b[49m\u001b[43m,\u001b[49m\u001b[43m \u001b[49m\u001b[43mdata\u001b[49m\u001b[43m,\u001b[49m\u001b[43m \u001b[49m\u001b[43morient\u001b[49m\u001b[43m,\u001b[49m\n\u001b[1;32m   1585\u001b[0m \u001b[43m                             \u001b[49m\u001b[43morder\u001b[49m\u001b[43m,\u001b[49m\u001b[43m \u001b[49m\u001b[43mhue_order\u001b[49m\u001b[43m,\u001b[49m\u001b[43m \u001b[49m\u001b[43munits\u001b[49m\u001b[43m)\u001b[49m\n\u001b[1;32m   1586\u001b[0m     \u001b[38;5;28mself\u001b[39m\u001b[38;5;241m.\u001b[39mestablish_colors(color, palette, saturation)\n\u001b[1;32m   1587\u001b[0m     \u001b[38;5;28mself\u001b[39m\u001b[38;5;241m.\u001b[39mestimate_statistic(estimator, ci, n_boot, seed)\n",
      "File \u001b[0;32m~/opt/anaconda3/envs/env_ds/lib/python3.8/site-packages/seaborn/categorical.py:206\u001b[0m, in \u001b[0;36m_CategoricalPlotter.establish_variables\u001b[0;34m(self, x, y, hue, data, orient, order, hue_order, units)\u001b[0m\n\u001b[1;32m    203\u001b[0m group_names \u001b[38;5;241m=\u001b[39m categorical_order(groups, order)\n\u001b[1;32m    205\u001b[0m \u001b[38;5;66;03m# Group the numeric data\u001b[39;00m\n\u001b[0;32m--> 206\u001b[0m plot_data, value_label \u001b[38;5;241m=\u001b[39m \u001b[38;5;28;43mself\u001b[39;49m\u001b[38;5;241;43m.\u001b[39;49m\u001b[43m_group_longform\u001b[49m\u001b[43m(\u001b[49m\u001b[43mvals\u001b[49m\u001b[43m,\u001b[49m\u001b[43m \u001b[49m\u001b[43mgroups\u001b[49m\u001b[43m,\u001b[49m\n\u001b[1;32m    207\u001b[0m \u001b[43m                                              \u001b[49m\u001b[43mgroup_names\u001b[49m\u001b[43m)\u001b[49m\n\u001b[1;32m    209\u001b[0m \u001b[38;5;66;03m# Now handle the hue levels for nested ordering\u001b[39;00m\n\u001b[1;32m    210\u001b[0m \u001b[38;5;28;01mif\u001b[39;00m hue \u001b[38;5;129;01mis\u001b[39;00m \u001b[38;5;28;01mNone\u001b[39;00m:\n",
      "File \u001b[0;32m~/opt/anaconda3/envs/env_ds/lib/python3.8/site-packages/seaborn/categorical.py:257\u001b[0m, in \u001b[0;36m_CategoricalPlotter._group_longform\u001b[0;34m(self, vals, grouper, order)\u001b[0m\n\u001b[1;32m    255\u001b[0m \u001b[38;5;28;01mfor\u001b[39;00m g \u001b[38;5;129;01min\u001b[39;00m order:\n\u001b[1;32m    256\u001b[0m     \u001b[38;5;28;01mtry\u001b[39;00m:\n\u001b[0;32m--> 257\u001b[0m         g_vals \u001b[38;5;241m=\u001b[39m \u001b[43mgrouped_vals\u001b[49m\u001b[38;5;241;43m.\u001b[39;49m\u001b[43mget_group\u001b[49m\u001b[43m(\u001b[49m\u001b[43mg\u001b[49m\u001b[43m)\u001b[49m\n\u001b[1;32m    258\u001b[0m     \u001b[38;5;28;01mexcept\u001b[39;00m \u001b[38;5;167;01mKeyError\u001b[39;00m:\n\u001b[1;32m    259\u001b[0m         g_vals \u001b[38;5;241m=\u001b[39m np\u001b[38;5;241m.\u001b[39marray([])\n",
      "File \u001b[0;32m~/opt/anaconda3/envs/env_ds/lib/python3.8/site-packages/pandas/core/groupby/groupby.py:749\u001b[0m, in \u001b[0;36mBaseGroupBy.get_group\u001b[0;34m(self, name, obj)\u001b[0m\n\u001b[1;32m    746\u001b[0m \u001b[38;5;28;01mif\u001b[39;00m \u001b[38;5;129;01mnot\u001b[39;00m \u001b[38;5;28mlen\u001b[39m(inds):\n\u001b[1;32m    747\u001b[0m     \u001b[38;5;28;01mraise\u001b[39;00m \u001b[38;5;167;01mKeyError\u001b[39;00m(name)\n\u001b[0;32m--> 749\u001b[0m \u001b[38;5;28;01mreturn\u001b[39;00m \u001b[43mobj\u001b[49m\u001b[38;5;241;43m.\u001b[39;49m\u001b[43m_take_with_is_copy\u001b[49m\u001b[43m(\u001b[49m\u001b[43minds\u001b[49m\u001b[43m,\u001b[49m\u001b[43m \u001b[49m\u001b[43maxis\u001b[49m\u001b[38;5;241;43m=\u001b[39;49m\u001b[38;5;28;43mself\u001b[39;49m\u001b[38;5;241;43m.\u001b[39;49m\u001b[43maxis\u001b[49m\u001b[43m)\u001b[49m\n",
      "File \u001b[0;32m~/opt/anaconda3/envs/env_ds/lib/python3.8/site-packages/pandas/core/series.py:923\u001b[0m, in \u001b[0;36mSeries._take_with_is_copy\u001b[0;34m(self, indices, axis)\u001b[0m\n\u001b[1;32m    914\u001b[0m \u001b[38;5;28;01mdef\u001b[39;00m \u001b[38;5;21m_take_with_is_copy\u001b[39m(\u001b[38;5;28mself\u001b[39m, indices, axis\u001b[38;5;241m=\u001b[39m\u001b[38;5;241m0\u001b[39m) \u001b[38;5;241m-\u001b[39m\u001b[38;5;241m>\u001b[39m Series:\n\u001b[1;32m    915\u001b[0m     \u001b[38;5;124;03m\"\"\"\u001b[39;00m\n\u001b[1;32m    916\u001b[0m \u001b[38;5;124;03m    Internal version of the `take` method that sets the `_is_copy`\u001b[39;00m\n\u001b[1;32m    917\u001b[0m \u001b[38;5;124;03m    attribute to keep track of the parent dataframe (using in indexing\u001b[39;00m\n\u001b[0;32m   (...)\u001b[0m\n\u001b[1;32m    921\u001b[0m \u001b[38;5;124;03m    See the docstring of `take` for full explanation of the parameters.\u001b[39;00m\n\u001b[1;32m    922\u001b[0m \u001b[38;5;124;03m    \"\"\"\u001b[39;00m\n\u001b[0;32m--> 923\u001b[0m     \u001b[38;5;28;01mreturn\u001b[39;00m \u001b[38;5;28;43mself\u001b[39;49m\u001b[38;5;241;43m.\u001b[39;49m\u001b[43mtake\u001b[49m\u001b[43m(\u001b[49m\u001b[43mindices\u001b[49m\u001b[38;5;241;43m=\u001b[39;49m\u001b[43mindices\u001b[49m\u001b[43m,\u001b[49m\u001b[43m \u001b[49m\u001b[43maxis\u001b[49m\u001b[38;5;241;43m=\u001b[39;49m\u001b[43maxis\u001b[49m\u001b[43m)\u001b[49m\n",
      "File \u001b[0;32m~/opt/anaconda3/envs/env_ds/lib/python3.8/site-packages/pandas/core/series.py:911\u001b[0m, in \u001b[0;36mSeries.take\u001b[0;34m(self, indices, axis, is_copy, **kwargs)\u001b[0m\n\u001b[1;32m    908\u001b[0m new_index \u001b[38;5;241m=\u001b[39m \u001b[38;5;28mself\u001b[39m\u001b[38;5;241m.\u001b[39mindex\u001b[38;5;241m.\u001b[39mtake(indices)\n\u001b[1;32m    909\u001b[0m new_values \u001b[38;5;241m=\u001b[39m \u001b[38;5;28mself\u001b[39m\u001b[38;5;241m.\u001b[39m_values\u001b[38;5;241m.\u001b[39mtake(indices)\n\u001b[0;32m--> 911\u001b[0m result \u001b[38;5;241m=\u001b[39m \u001b[38;5;28;43mself\u001b[39;49m\u001b[38;5;241;43m.\u001b[39;49m\u001b[43m_constructor\u001b[49m\u001b[43m(\u001b[49m\u001b[43mnew_values\u001b[49m\u001b[43m,\u001b[49m\u001b[43m \u001b[49m\u001b[43mindex\u001b[49m\u001b[38;5;241;43m=\u001b[39;49m\u001b[43mnew_index\u001b[49m\u001b[43m,\u001b[49m\u001b[43m \u001b[49m\u001b[43mfastpath\u001b[49m\u001b[38;5;241;43m=\u001b[39;49m\u001b[38;5;28;43;01mTrue\u001b[39;49;00m\u001b[43m)\u001b[49m\n\u001b[1;32m    912\u001b[0m \u001b[38;5;28;01mreturn\u001b[39;00m result\u001b[38;5;241m.\u001b[39m__finalize__(\u001b[38;5;28mself\u001b[39m, method\u001b[38;5;241m=\u001b[39m\u001b[38;5;124m\"\u001b[39m\u001b[38;5;124mtake\u001b[39m\u001b[38;5;124m\"\u001b[39m)\n",
      "File \u001b[0;32m~/opt/anaconda3/envs/env_ds/lib/python3.8/site-packages/pandas/core/series.py:356\u001b[0m, in \u001b[0;36mSeries.__init__\u001b[0;34m(self, data, index, dtype, name, copy, fastpath)\u001b[0m\n\u001b[1;32m    354\u001b[0m manager \u001b[38;5;241m=\u001b[39m get_option(\u001b[38;5;124m\"\u001b[39m\u001b[38;5;124mmode.data_manager\u001b[39m\u001b[38;5;124m\"\u001b[39m)\n\u001b[1;32m    355\u001b[0m \u001b[38;5;28;01mif\u001b[39;00m manager \u001b[38;5;241m==\u001b[39m \u001b[38;5;124m\"\u001b[39m\u001b[38;5;124mblock\u001b[39m\u001b[38;5;124m\"\u001b[39m:\n\u001b[0;32m--> 356\u001b[0m     data \u001b[38;5;241m=\u001b[39m \u001b[43mSingleBlockManager\u001b[49m\u001b[38;5;241;43m.\u001b[39;49m\u001b[43mfrom_array\u001b[49m\u001b[43m(\u001b[49m\u001b[43mdata\u001b[49m\u001b[43m,\u001b[49m\u001b[43m \u001b[49m\u001b[43mindex\u001b[49m\u001b[43m)\u001b[49m\n\u001b[1;32m    357\u001b[0m \u001b[38;5;28;01melif\u001b[39;00m manager \u001b[38;5;241m==\u001b[39m \u001b[38;5;124m\"\u001b[39m\u001b[38;5;124marray\u001b[39m\u001b[38;5;124m\"\u001b[39m:\n\u001b[1;32m    358\u001b[0m     data \u001b[38;5;241m=\u001b[39m SingleArrayManager\u001b[38;5;241m.\u001b[39mfrom_array(data, index)\n",
      "File \u001b[0;32m~/opt/anaconda3/envs/env_ds/lib/python3.8/site-packages/pandas/core/internals/managers.py:1736\u001b[0m, in \u001b[0;36mSingleBlockManager.from_array\u001b[0;34m(cls, array, index)\u001b[0m\n\u001b[1;32m   1731\u001b[0m \u001b[38;5;129m@classmethod\u001b[39m\n\u001b[1;32m   1732\u001b[0m \u001b[38;5;28;01mdef\u001b[39;00m \u001b[38;5;21mfrom_array\u001b[39m(\u001b[38;5;28mcls\u001b[39m, array: ArrayLike, index: Index) \u001b[38;5;241m-\u001b[39m\u001b[38;5;241m>\u001b[39m SingleBlockManager:\n\u001b[1;32m   1733\u001b[0m     \u001b[38;5;124;03m\"\"\"\u001b[39;00m\n\u001b[1;32m   1734\u001b[0m \u001b[38;5;124;03m    Constructor for if we have an array that is not yet a Block.\u001b[39;00m\n\u001b[1;32m   1735\u001b[0m \u001b[38;5;124;03m    \"\"\"\u001b[39;00m\n\u001b[0;32m-> 1736\u001b[0m     block \u001b[38;5;241m=\u001b[39m \u001b[43mnew_block\u001b[49m\u001b[43m(\u001b[49m\u001b[43marray\u001b[49m\u001b[43m,\u001b[49m\u001b[43m \u001b[49m\u001b[43mplacement\u001b[49m\u001b[38;5;241;43m=\u001b[39;49m\u001b[38;5;28;43mslice\u001b[39;49m\u001b[43m(\u001b[49m\u001b[38;5;241;43m0\u001b[39;49m\u001b[43m,\u001b[49m\u001b[43m \u001b[49m\u001b[38;5;28;43mlen\u001b[39;49m\u001b[43m(\u001b[49m\u001b[43mindex\u001b[49m\u001b[43m)\u001b[49m\u001b[43m)\u001b[49m\u001b[43m,\u001b[49m\u001b[43m \u001b[49m\u001b[43mndim\u001b[49m\u001b[38;5;241;43m=\u001b[39;49m\u001b[38;5;241;43m1\u001b[39;49m\u001b[43m)\u001b[49m\n\u001b[1;32m   1737\u001b[0m     \u001b[38;5;28;01mreturn\u001b[39;00m \u001b[38;5;28mcls\u001b[39m(block, index)\n",
      "File \u001b[0;32m~/opt/anaconda3/envs/env_ds/lib/python3.8/site-packages/pandas/core/internals/blocks.py:2030\u001b[0m, in \u001b[0;36mnew_block\u001b[0;34m(values, placement, ndim)\u001b[0m\n\u001b[1;32m   2026\u001b[0m \u001b[38;5;28;01mdef\u001b[39;00m \u001b[38;5;21mnew_block\u001b[39m(values, placement, \u001b[38;5;241m*\u001b[39m, ndim: \u001b[38;5;28mint\u001b[39m) \u001b[38;5;241m-\u001b[39m\u001b[38;5;241m>\u001b[39m Block:\n\u001b[1;32m   2027\u001b[0m     \u001b[38;5;66;03m# caller is responsible for ensuring values is NOT a PandasArray\u001b[39;00m\n\u001b[1;32m   2029\u001b[0m     \u001b[38;5;28;01mif\u001b[39;00m \u001b[38;5;129;01mnot\u001b[39;00m \u001b[38;5;28misinstance\u001b[39m(placement, BlockPlacement):\n\u001b[0;32m-> 2030\u001b[0m         placement \u001b[38;5;241m=\u001b[39m \u001b[43mBlockPlacement\u001b[49m\u001b[43m(\u001b[49m\u001b[43mplacement\u001b[49m\u001b[43m)\u001b[49m\n\u001b[1;32m   2032\u001b[0m     check_ndim(values, placement, ndim)\n\u001b[1;32m   2034\u001b[0m     klass \u001b[38;5;241m=\u001b[39m get_block_type(values\u001b[38;5;241m.\u001b[39mdtype)\n",
      "\u001b[0;31mKeyboardInterrupt\u001b[0m: "
     ]
    },
    {
     "data": {
      "image/png": "[encoded data removed]",
      "text/plain": [
       "<Figure size 1800x864 with 1 Axes>"
      ]
     },
     "metadata": {
      "needs_background": "light"
     },
     "output_type": "display_data"
    }
   ],
   "source": [
    "plt.subplot(3, 2, 1)\n",
    "sns.countplot(df1['name']);\n",
    "\n",
    "plt.subplot(3, 2, 2)\n",
    "sns.countplot(df1['category_name']);\n",
    "\n",
    "plt.subplot(3, 2, 3)\n",
    "sns.countplot(df1['brand_name']);\n",
    "\n",
    "plt.subplot(3, 2, 4)\n",
    "sns.countplot(df1['item_description']);"
   ]
  },
  {
   "cell_type": "markdown",
   "id": "7776720f",
   "metadata": {},
   "source": [
    "# 2.0 Feature Engineering\n",
    "### (criar as variáveis, criar lista de hipóteses e validar as hipóteses)"
   ]
  },
  {
   "cell_type": "code",
   "execution_count": 7,
   "id": "2cd8816f",
   "metadata": {
    "ExecuteTime": {
     "end_time": "2022-06-09T04:47:44.256618Z",
     "start_time": "2022-06-09T04:47:43.978744Z"
    }
   },
   "outputs": [],
   "source": [
    "df2 = df1.copy()"
   ]
  },
  {
   "cell_type": "code",
   "execution_count": null,
   "id": "ef2ae561",
   "metadata": {},
   "outputs": [],
   "source": [
    "# category_name (dividir em Masculina, Feminina, Kids, Esportiva, Home)\n"
   ]
  },
  {
   "cell_type": "code",
   "execution_count": null,
   "id": "0c986dd6",
   "metadata": {},
   "outputs": [],
   "source": []
  },
  {
   "cell_type": "code",
   "execution_count": null,
   "id": "1b84e2a5",
   "metadata": {},
   "outputs": [],
   "source": []
  },
  {
   "cell_type": "markdown",
   "id": "1eaadaa2",
   "metadata": {},
   "source": [
    "# 3.0 Filtragem de Variáveis"
   ]
  },
  {
   "cell_type": "code",
   "execution_count": 8,
   "id": "8fce2726",
   "metadata": {
    "ExecuteTime": {
     "end_time": "2022-06-09T04:47:46.957759Z",
     "start_time": "2022-06-09T04:47:46.682722Z"
    }
   },
   "outputs": [],
   "source": [
    "df3 = df2.copy()"
   ]
  },
  {
   "cell_type": "code",
   "execution_count": 30,
   "id": "04260b7d",
   "metadata": {
    "ExecuteTime": {
     "end_time": "2022-06-09T02:43:49.793223Z",
     "start_time": "2022-06-09T02:43:49.783550Z"
    }
   },
   "outputs": [
    {
     "data": {
      "text/plain": [
       "Index(['train_id', 'name', 'item_condition_id', 'category_name', 'brand_name',\n",
       "       'price', 'shipping', 'item_description'],\n",
       "      dtype='object')"
      ]
     },
     "execution_count": 30,
     "metadata": {},
     "output_type": "execute_result"
    }
   ],
   "source": [
    "#verificar\n",
    "df3.columns"
   ]
  },
  {
   "cell_type": "markdown",
   "id": "331e580f",
   "metadata": {},
   "source": [
    "# 4.0 Análise Exploratória dos Dados - EDA\n",
    "### objetivos da análise exploratória dos dados"
   ]
  },
  {
   "cell_type": "code",
   "execution_count": 9,
   "id": "01f1d148",
   "metadata": {
    "ExecuteTime": {
     "end_time": "2022-06-09T04:47:51.386042Z",
     "start_time": "2022-06-09T04:47:51.098703Z"
    }
   },
   "outputs": [],
   "source": [
    "df4 = df3.copy()"
   ]
  },
  {
   "cell_type": "markdown",
   "id": "3957979d",
   "metadata": {
    "ExecuteTime": {
     "end_time": "2022-02-19T21:12:06.874660Z",
     "start_time": "2022-02-19T21:09:30.198083Z"
    },
    "heading_collapsed": true
   },
   "source": [
    "## SweetViz"
   ]
  },
  {
   "cell_type": "code",
   "execution_count": 11,
   "id": "39e3faa8",
   "metadata": {
    "ExecuteTime": {
     "end_time": "2022-06-09T04:48:17.489530Z",
     "start_time": "2022-06-09T04:48:04.483426Z"
    },
    "hidden": true
   },
   "outputs": [],
   "source": [
    "df_sweetviz = pd.read_csv(\"/Users/raquelrocha/documents/ProjetosComunidadeDS/DSProducao/data_mercari/train.tsv\", sep = '\\t')"
   ]
  },
  {
   "cell_type": "code",
   "execution_count": 12,
   "id": "1cdcafcd",
   "metadata": {
    "ExecuteTime": {
     "end_time": "2022-06-09T04:50:29.177864Z",
     "start_time": "2022-06-09T04:48:59.016291Z"
    },
    "hidden": true
   },
   "outputs": [
    {
     "data": {
      "application/vnd.jupyter.widget-view+json": {
       "model_id": "fc1e46006f0f483ba61cac726a3bce59",
       "version_major": 2,
       "version_minor": 0
      },
      "text/plain": [
       "                                             |      | [  0%]   00:00 -> (? left)"
      ]
     },
     "metadata": {},
     "output_type": "display_data"
    }
   ],
   "source": [
    "relatorio = sweetviz.analyze(df_sweetviz)"
   ]
  },
  {
   "cell_type": "code",
   "execution_count": 25,
   "id": "9d92368d",
   "metadata": {
    "ExecuteTime": {
     "end_time": "2022-06-09T05:08:40.233703Z",
     "start_time": "2022-06-09T05:08:39.656170Z"
    },
    "hidden": true
   },
   "outputs": [
    {
     "name": "stdout",
     "output_type": "stream",
     "text": [
      "Report relatorio.html was generated! NOTEBOOK/COLAB USERS: the web browser MAY not pop up, regardless, the report IS saved in your notebook/colab files.\n"
     ]
    }
   ],
   "source": [
    "relatorio.show_html('relatorio.html')"
   ]
  },
  {
   "cell_type": "markdown",
   "id": "6566c89d",
   "metadata": {},
   "source": [
    "## 4.1 Análise univariada"
   ]
  },
  {
   "cell_type": "markdown",
   "id": "00592ba4",
   "metadata": {},
   "source": [
    "### 4.1.1 Responde variable"
   ]
  },
  {
   "cell_type": "code",
   "execution_count": 42,
   "id": "12940b65",
   "metadata": {
    "ExecuteTime": {
     "end_time": "2022-06-09T02:56:33.574261Z",
     "start_time": "2022-06-09T02:56:02.211103Z"
    }
   },
   "outputs": [
    {
     "data": {
      "text/plain": [
       "<seaborn.axisgrid.FacetGrid at 0x1b23d2b50>"
      ]
     },
     "execution_count": 42,
     "metadata": {},
     "output_type": "execute_result"
    },
    {
     "data": {
      "image/png": "[encoded data removed]",
      "text/plain": [
       "<Figure size 360x360 with 1 Axes>"
      ]
     },
     "metadata": {},
     "output_type": "display_data"
    }
   ],
   "source": [
    "sns.displot(df4[\"price\"])"
   ]
  },
  {
   "cell_type": "markdown",
   "id": "15efc9eb",
   "metadata": {},
   "source": [
    "### 4.1.2 Numerical variable"
   ]
  },
  {
   "cell_type": "code",
   "execution_count": 34,
   "id": "ef041fe4",
   "metadata": {
    "ExecuteTime": {
     "end_time": "2022-06-09T02:15:55.720324Z",
     "start_time": "2022-06-09T02:15:52.609489Z"
    }
   },
   "outputs": [
    {
     "data": {
      "image/png": "[encoded data removed]",
      "text/plain": [
       "<Figure size 1800x864 with 4 Axes>"
      ]
     },
     "metadata": {
      "needs_background": "light"
     },
     "output_type": "display_data"
    }
   ],
   "source": [
    "# histograma das variáveis numéricas\n",
    "num_attributes.hist(bins=25);"
   ]
  },
  {
   "cell_type": "markdown",
   "id": "06df8a0f",
   "metadata": {
    "heading_collapsed": true
   },
   "source": [
    "### 4.1.3 Categorical variable"
   ]
  },
  {
   "cell_type": "code",
   "execution_count": 38,
   "id": "1b9f7655",
   "metadata": {
    "ExecuteTime": {
     "end_time": "2022-06-09T02:22:00.786656Z",
     "start_time": "2022-06-09T02:22:00.764439Z"
    },
    "hidden": true
   },
   "outputs": [
    {
     "data": {
      "text/html": [
       "<div>\n",
       "<style scoped>\n",
       "    .dataframe tbody tr th:only-of-type {\n",
       "        vertical-align: middle;\n",
       "    }\n",
       "\n",
       "    .dataframe tbody tr th {\n",
       "        vertical-align: top;\n",
       "    }\n",
       "\n",
       "    .dataframe thead th {\n",
       "        text-align: right;\n",
       "    }\n",
       "</style>\n",
       "<table border=\"1\" class=\"dataframe\">\n",
       "  <thead>\n",
       "    <tr style=\"text-align: right;\">\n",
       "      <th></th>\n",
       "      <th>name</th>\n",
       "      <th>category_name</th>\n",
       "      <th>brand_name</th>\n",
       "      <th>item_description</th>\n",
       "    </tr>\n",
       "  </thead>\n",
       "  <tbody>\n",
       "    <tr>\n",
       "      <th>0</th>\n",
       "      <td>MLB Cincinnati Reds T Shirt Size XL</td>\n",
       "      <td>Men/Tops/T-shirts</td>\n",
       "      <td>sem marca</td>\n",
       "      <td>No description yet</td>\n",
       "    </tr>\n",
       "    <tr>\n",
       "      <th>1</th>\n",
       "      <td>Razer BlackWidow Chroma Keyboard</td>\n",
       "      <td>Electronics/Computers &amp; Tablets/Components &amp; P...</td>\n",
       "      <td>Razer</td>\n",
       "      <td>This keyboard is in great condition and works ...</td>\n",
       "    </tr>\n",
       "    <tr>\n",
       "      <th>2</th>\n",
       "      <td>AVA-VIV Blouse</td>\n",
       "      <td>Women/Tops &amp; Blouses/Blouse</td>\n",
       "      <td>Target</td>\n",
       "      <td>Adorable top with a hint of lace and a key hol...</td>\n",
       "    </tr>\n",
       "    <tr>\n",
       "      <th>3</th>\n",
       "      <td>Leather Horse Statues</td>\n",
       "      <td>Home/Home Décor/Home Décor Accents</td>\n",
       "      <td>sem marca</td>\n",
       "      <td>New with tags. Leather horses. Retail for [rm]...</td>\n",
       "    </tr>\n",
       "    <tr>\n",
       "      <th>4</th>\n",
       "      <td>24K GOLD plated rose</td>\n",
       "      <td>Women/Jewelry/Necklaces</td>\n",
       "      <td>sem marca</td>\n",
       "      <td>Complete with certificate of authenticity</td>\n",
       "    </tr>\n",
       "    <tr>\n",
       "      <th>5</th>\n",
       "      <td>Bundled items requested for Ruie</td>\n",
       "      <td>Women/Other/Other</td>\n",
       "      <td>sem marca</td>\n",
       "      <td>Banana republic bottoms, Candies skirt with ma...</td>\n",
       "    </tr>\n",
       "    <tr>\n",
       "      <th>6</th>\n",
       "      <td>Acacia pacific tides santorini top</td>\n",
       "      <td>Women/Swimwear/Two-Piece</td>\n",
       "      <td>Acacia Swimwear</td>\n",
       "      <td>Size small but straps slightly shortened to fi...</td>\n",
       "    </tr>\n",
       "    <tr>\n",
       "      <th>7</th>\n",
       "      <td>Girls cheer and tumbling bundle of 7</td>\n",
       "      <td>Sports &amp; Outdoors/Apparel/Girls</td>\n",
       "      <td>Soffe</td>\n",
       "      <td>You get three pairs of Sophie cheer shorts siz...</td>\n",
       "    </tr>\n",
       "    <tr>\n",
       "      <th>8</th>\n",
       "      <td>Girls Nike Pro shorts</td>\n",
       "      <td>Sports &amp; Outdoors/Apparel/Girls</td>\n",
       "      <td>Nike</td>\n",
       "      <td>Girls Size small Plus green. Three shorts total.</td>\n",
       "    </tr>\n",
       "    <tr>\n",
       "      <th>9</th>\n",
       "      <td>Porcelain clown doll checker pants VTG</td>\n",
       "      <td>Vintage &amp; Collectibles/Collectibles/Doll</td>\n",
       "      <td>sem marca</td>\n",
       "      <td>I realized his pants are on backwards after th...</td>\n",
       "    </tr>\n",
       "  </tbody>\n",
       "</table>\n",
       "</div>"
      ],
      "text/plain": [
       "                                     name                                      category_name       brand_name                                   item_description\n",
       "0     MLB Cincinnati Reds T Shirt Size XL                                  Men/Tops/T-shirts        sem marca                                 No description yet\n",
       "1        Razer BlackWidow Chroma Keyboard  Electronics/Computers & Tablets/Components & P...            Razer  This keyboard is in great condition and works ...\n",
       "2                          AVA-VIV Blouse                        Women/Tops & Blouses/Blouse           Target  Adorable top with a hint of lace and a key hol...\n",
       "3                   Leather Horse Statues                 Home/Home Décor/Home Décor Accents        sem marca  New with tags. Leather horses. Retail for [rm]...\n",
       "4                    24K GOLD plated rose                            Women/Jewelry/Necklaces        sem marca          Complete with certificate of authenticity\n",
       "5        Bundled items requested for Ruie                                  Women/Other/Other        sem marca  Banana republic bottoms, Candies skirt with ma...\n",
       "6      Acacia pacific tides santorini top                           Women/Swimwear/Two-Piece  Acacia Swimwear  Size small but straps slightly shortened to fi...\n",
       "7    Girls cheer and tumbling bundle of 7                    Sports & Outdoors/Apparel/Girls            Soffe  You get three pairs of Sophie cheer shorts siz...\n",
       "8                   Girls Nike Pro shorts                    Sports & Outdoors/Apparel/Girls             Nike   Girls Size small Plus green. Three shorts total.\n",
       "9  Porcelain clown doll checker pants VTG           Vintage & Collectibles/Collectibles/Doll        sem marca  I realized his pants are on backwards after th..."
      ]
     },
     "execution_count": 38,
     "metadata": {},
     "output_type": "execute_result"
    }
   ],
   "source": [
    "cat_attributes.head(10)\n"
   ]
  },
  {
   "cell_type": "code",
   "execution_count": null,
   "id": "a2b1600f",
   "metadata": {
    "hidden": true
   },
   "outputs": [],
   "source": []
  },
  {
   "cell_type": "markdown",
   "id": "f2335d32",
   "metadata": {},
   "source": [
    "## 4.3 Análise Multivariada"
   ]
  },
  {
   "cell_type": "markdown",
   "id": "87d49b8e",
   "metadata": {},
   "source": [
    "### 4.3.1 Numerical Attributes"
   ]
  },
  {
   "cell_type": "code",
   "execution_count": 42,
   "id": "7b2d9811",
   "metadata": {
    "ExecuteTime": {
     "end_time": "2022-06-09T02:23:59.454433Z",
     "start_time": "2022-06-09T02:23:58.431924Z"
    }
   },
   "outputs": [
    {
     "data": {
      "image/png": "[encoded data removed]",
      "text/plain": [
       "<Figure size 1800x864 with 2 Axes>"
      ]
     },
     "metadata": {
      "needs_background": "light"
     },
     "output_type": "display_data"
    }
   ],
   "source": [
    "# correlação entre as variáveis\n",
    "correlation=num_attributes.corr(method=\"pearson\")\n",
    "sns.heatmap(correlation, annot=True);"
   ]
  },
  {
   "cell_type": "markdown",
   "id": "4ce746db",
   "metadata": {},
   "source": [
    "### 4.3.2 Categorical Attributes"
   ]
  },
  {
   "cell_type": "code",
   "execution_count": 44,
   "id": "08d21a3e",
   "metadata": {
    "ExecuteTime": {
     "end_time": "2022-06-09T02:24:34.383554Z",
     "start_time": "2022-06-09T02:24:34.373895Z"
    }
   },
   "outputs": [
    {
     "data": {
      "text/plain": [
       "Index(['name', 'category_name', 'brand_name', 'item_description'], dtype='object')"
      ]
     },
     "execution_count": 44,
     "metadata": {},
     "output_type": "execute_result"
    }
   ],
   "source": [
    "cat_attributes.columns"
   ]
  },
  {
   "cell_type": "code",
   "execution_count": 53,
   "id": "d622feeb",
   "metadata": {
    "ExecuteTime": {
     "end_time": "2022-06-09T03:39:08.639371Z",
     "start_time": "2022-06-09T03:39:08.618956Z"
    }
   },
   "outputs": [],
   "source": [
    "def cramer_v( x, y):\n",
    "    cm = pd.crosstab(x, y).to_numpy()\n",
    "    n = cm.sum()\n",
    "    r,k = cm.shape\n",
    "    \n",
    "    chi2 = stats.chi2_contingency(cm)[0]\n",
    "    chi2corr = max(0 , chi2 - (k-1)*(r-1)/(n-1))\n",
    "    kcorr = k - (k-1)**2/(n-1)\n",
    "    rcorr = r - (r-1)**2/(n-1)\n",
    "   \n",
    "    return np.sqrt( (chi2corr/n) / (min( kcorr-1, rcorr-1 ) ) )  \n",
    "\n",
    "def cramers_v_df(categorical_features):\n",
    "\n",
    "    rows= []\n",
    "\n",
    "    for var1 in categorical_features:\n",
    "\n",
    "        col = []\n",
    "\n",
    "        for var2 in categorical_features:\n",
    "            cramers =cramer_v(categorical_features[var1], categorical_features[var2]) \n",
    "            col.append(round(cramers,3)) \n",
    "\n",
    "        rows.append(col)\n",
    "\n",
    "    cramers_results = np.array(rows)\n",
    "    df = pd.DataFrame(cramers_results, columns=categorical_features.columns, index=categorical_features.columns)\n",
    "\n",
    "    return df"
   ]
  },
  {
   "cell_type": "code",
   "execution_count": null,
   "id": "f7338bd8",
   "metadata": {
    "ExecuteTime": {
     "start_time": "2022-06-09T03:39:09.638Z"
    }
   },
   "outputs": [],
   "source": [
    "cat_features = cat_attributes\n",
    "\n",
    "# dataframe with cramer-v \n",
    "cramer_v_dataframe = cramers_v_df(cat_features)\n",
    "\n",
    "# create a mask\n",
    "mask = np.zeros_like(cramer_v_dataframe, dtype=np.bool)\n",
    "mask[np.triu_indices_from(mask)] = True\n",
    "\n",
    "# display heatmap\n",
    "plt.subplots(figsize=(15, 8))\n",
    "sns.heatmap( cramer_v_dataframe, annot = True);\n",
    "\n",
    "#esse abaixo muda o formato do gráfico de correlação\n",
    "#sns.heatmap( cramer_v_dataframe, annot = True, mask=mask);"
   ]
  },
  {
   "cell_type": "markdown",
   "id": "398d78c9",
   "metadata": {},
   "source": [
    "# 5.0 Data Preparation"
   ]
  },
  {
   "cell_type": "code",
   "execution_count": 44,
   "id": "15831fd4",
   "metadata": {
    "ExecuteTime": {
     "end_time": "2022-06-09T02:59:33.727650Z",
     "start_time": "2022-06-09T02:59:33.093823Z"
    }
   },
   "outputs": [],
   "source": [
    "df5 = df4.copy()"
   ]
  },
  {
   "cell_type": "code",
   "execution_count": null,
   "id": "0266891d",
   "metadata": {},
   "outputs": [],
   "source": [
    "#separando dados para treino e test\n",
    "\n",
    "X = df4.drop(\"price\", axis=1) #aqui retiro a feature response\n",
    "y = df4[\"price\"].copy() #aqui adiciono a feature a variável y \n",
    "\n",
    "#separando em treino e validação\n",
    "x_train, x_validation, y_train, y_validation = mms.train_test_split( X, y, test_size=0.20)\n",
    "\n",
    "#concatenar o x_train e o y_train e colocar em df5\n",
    "df5 = pd.concat([x_train, y_train], axis=1)\n"
   ]
  },
  {
   "cell_type": "markdown",
   "id": "34f4a300",
   "metadata": {},
   "source": [
    "## 5.1 Normalização"
   ]
  },
  {
   "cell_type": "code",
   "execution_count": 46,
   "id": "a2dddf57",
   "metadata": {
    "ExecuteTime": {
     "end_time": "2022-06-09T03:07:30.870049Z",
     "start_time": "2022-06-09T03:01:08.904833Z"
    }
   },
   "outputs": [
    {
     "name": "stderr",
     "output_type": "stream",
     "text": [
      "\n",
      "KeyboardInterrupt\n",
      "\n"
     ]
    },
    {
     "name": "stdout",
     "output_type": "stream",
     "text": [
      "Error in callback <function flush_figures at 0x11b331b80> (for post_execute):\n"
     ]
    },
    {
     "name": "stderr",
     "output_type": "stream",
     "text": [
      "\n",
      "KeyboardInterrupt\n",
      "\n"
     ]
    }
   ],
   "source": [
    "#aqui vemos onde colocaremos cada feature nas etapas abaixo\n",
    "sns.histplot(df5[\"item_description\"]) #aqui é só ir trocando o nome da váriavel"
   ]
  },
  {
   "cell_type": "code",
   "execution_count": 78,
   "id": "39149536",
   "metadata": {
    "ExecuteTime": {
     "end_time": "2022-02-19T21:16:21.838781Z",
     "start_time": "2022-02-19T21:16:21.834339Z"
    }
   },
   "outputs": [],
   "source": [
    "# Ver quais variáveis irão ser normalizadas, olhando suas distribuções (na analise univariada em numerical variable)\n",
    "ss = pp.StandardScaler()\n",
    "\n",
    "df5[\"item_condition_id\"] = ss.fit_transform(df5[[\"item_condition_id\"]].values) # o que está dentro de [[]] me passa um array\n"
   ]
  },
  {
   "cell_type": "markdown",
   "id": "64559f43",
   "metadata": {},
   "source": [
    "## 5.2 Rescaling"
   ]
  },
  {
   "cell_type": "code",
   "execution_count": 79,
   "id": "9d573ed4",
   "metadata": {
    "ExecuteTime": {
     "end_time": "2022-02-19T21:16:28.709059Z",
     "start_time": "2022-02-19T21:16:28.023974Z"
    }
   },
   "outputs": [],
   "source": [
    "rs = RobustScaler()\n",
    "mms = MinMaxScaler()\n",
    "\n",
    "# competition distance\n",
    "df5[\"name\"] = rs.fit_transform( df5[[\"name\"]].values ) #encontra os parametros da fórmula e aplica nos dados\n",
    "\n",
    "# competition time month\n",
    "df5[\"category_name\"] = rs.fit_transform( df5[[\"category_name\"]].values ) #encontra os parametros da fórmula e aplica nos dados\n",
    "\n",
    "# promo time week\n",
    "df5[\"brand_name\"] = mms.fit_transform( df5[[\"brand_name\"]].values ) #encontra os parametros da fórmula e aplica nos dados\n",
    "\n",
    "# year\n",
    "df5[\"item_description\"] = mms.fit_transform( df5[[\"item_description\"]].values ) #encontra os parametros da fórmula e aplica nos dados\n"
   ]
  },
  {
   "cell_type": "markdown",
   "id": "d2981d1f",
   "metadata": {},
   "source": [
    "## 5.3 Transformação"
   ]
  },
  {
   "cell_type": "markdown",
   "id": "04bda2b7",
   "metadata": {},
   "source": [
    "### 5.3.1 Encoding"
   ]
  },
  {
   "cell_type": "code",
   "execution_count": null,
   "id": "09204b9c",
   "metadata": {},
   "outputs": [],
   "source": [
    "\n",
    "#driving_license - essa feature já está em 0 e 1 então já está \"encodado\"\n",
    "\n",
    "#region_code \n",
    "#Label Encoding (mapeia se tem ou não tem Ex: 0 e 1)\n",
    "\n",
    "#One Hot Encoding (identifica um estado Ex:0 e 1), nesse caso tem 52 (não indicado)\n",
    "#P.S. quando tem muitos(acima de 6/7) níveis em sua variável categórica, se usar uma hot encoding irá criar muitas dimensões no dataset que a amostra de dimensionalidade irá acabar com o modelo\n",
    "\n",
    "#aqui podemos usar qualquer um desses, o Meigarom indica o Target Encoding, no prmeiro ciclo \n",
    "#Frequency Encoding (conta a frequência, quantas pessoas tem a licença por classe)\n",
    "#Target Encoding (calcula a média, de quantas pessoas tem a licença e divide pelo total de pessoas daquele grupo)\n",
    "#Weighted Target Encoding (dar peso manual para a variável Ex: quanto maior o peso mais próximo fica da média, e quanto menor o peso fica mais distante da média)\n",
    "\n",
    "\n",
    "#previously_insurence - essa feature já está em 0 e 1 então já está \"encodado\"\n",
    "\n",
    "\n",
    "#vehicle_age\n",
    "#Order Encoding (mapeia a ordem ex: 2 anos seria 2x de 1 ano, e 3 anos seria 3x de 1 ano e assim vai)\n",
    "#One Hot Encoding (identifica um estado Ex: velho e novo)\n",
    "#Frequency Encoding (conta a frequência, quantos carros que são velhos, quantos carros que são novos)\n",
    "\n",
    "\n",
    "#vehicle_damage - essa feature já está em 0 e 1 então já está \"encodado\"\n",
    "\n",
    "\n",
    "#policy_sales_channel\n",
    "#Frequency Encoding (conta a frequência, qual tipo de contato o cliente quer ter)\n",
    "#Target Encoding (calcula a média, de quantas pessoas tem a licença e divide pelo total de pessoas daquele grupo)\n",
    "\n",
    "#P.S. função Get_dummys (pandas), é igual ao Hot Encoding\n"
   ]
  },
  {
   "cell_type": "code",
   "execution_count": 50,
   "id": "90e5c30c",
   "metadata": {
    "ExecuteTime": {
     "end_time": "2022-06-09T03:24:02.933185Z",
     "start_time": "2022-06-09T03:24:02.911119Z"
    }
   },
   "outputs": [
    {
     "data": {
      "text/html": [
       "<div>\n",
       "<style scoped>\n",
       "    .dataframe tbody tr th:only-of-type {\n",
       "        vertical-align: middle;\n",
       "    }\n",
       "\n",
       "    .dataframe tbody tr th {\n",
       "        vertical-align: top;\n",
       "    }\n",
       "\n",
       "    .dataframe thead th {\n",
       "        text-align: right;\n",
       "    }\n",
       "</style>\n",
       "<table border=\"1\" class=\"dataframe\">\n",
       "  <thead>\n",
       "    <tr style=\"text-align: right;\">\n",
       "      <th></th>\n",
       "      <th>train_id</th>\n",
       "      <th>name</th>\n",
       "      <th>item_condition_id</th>\n",
       "      <th>category_name</th>\n",
       "      <th>brand_name</th>\n",
       "      <th>price</th>\n",
       "      <th>shipping</th>\n",
       "      <th>item_description</th>\n",
       "    </tr>\n",
       "  </thead>\n",
       "  <tbody>\n",
       "    <tr>\n",
       "      <th>1482525</th>\n",
       "      <td>1482525</td>\n",
       "      <td>Red Victoria's Secret bra w sequins</td>\n",
       "      <td>2</td>\n",
       "      <td>Women/Underwear/Bras</td>\n",
       "      <td>PINK</td>\n",
       "      <td>2.079442</td>\n",
       "      <td>1</td>\n",
       "      <td>Removable straps to make strapless Size: 34 B ...</td>\n",
       "    </tr>\n",
       "    <tr>\n",
       "      <th>1482526</th>\n",
       "      <td>1482526</td>\n",
       "      <td>Harry Potter Shirt! Women M/ Girl XL</td>\n",
       "      <td>2</td>\n",
       "      <td>Women/Tops &amp; Blouses/T-Shirts</td>\n",
       "      <td>sem marca</td>\n",
       "      <td>2.564949</td>\n",
       "      <td>0</td>\n",
       "      <td>Great Harry Potter Shirt! \"Hogwarts, School of...</td>\n",
       "    </tr>\n",
       "    <tr>\n",
       "      <th>1482527</th>\n",
       "      <td>1482527</td>\n",
       "      <td>Blk/white ribbed mock neck bodysuit M</td>\n",
       "      <td>1</td>\n",
       "      <td>Women/Tops &amp; Blouses/Blouse</td>\n",
       "      <td>sem marca</td>\n",
       "      <td>2.397895</td>\n",
       "      <td>1</td>\n",
       "      <td>Brand new black and white ribbed mock neck bod...</td>\n",
       "    </tr>\n",
       "    <tr>\n",
       "      <th>1482528</th>\n",
       "      <td>1482528</td>\n",
       "      <td>Victoria's Secret Tankini Sz. Large</td>\n",
       "      <td>2</td>\n",
       "      <td>Women/Athletic Apparel/Sports Bras</td>\n",
       "      <td>Victoria's Secret</td>\n",
       "      <td>2.944439</td>\n",
       "      <td>1</td>\n",
       "      <td>Purple and Paisley Victoria's Secret Tankini S...</td>\n",
       "    </tr>\n",
       "    <tr>\n",
       "      <th>1482529</th>\n",
       "      <td>1482529</td>\n",
       "      <td>Men's UA [rm]</td>\n",
       "      <td>2</td>\n",
       "      <td>Men/Athletic Apparel/Shirts &amp; Tops</td>\n",
       "      <td>Under Armour</td>\n",
       "      <td>3.555348</td>\n",
       "      <td>0</td>\n",
       "      <td>[rm] for the set both in perfect condition no ...</td>\n",
       "    </tr>\n",
       "    <tr>\n",
       "      <th>1482530</th>\n",
       "      <td>1482530</td>\n",
       "      <td>Free People Inspired Dress</td>\n",
       "      <td>2</td>\n",
       "      <td>Women/Dresses/Mid-Calf</td>\n",
       "      <td>Free People</td>\n",
       "      <td>3.044522</td>\n",
       "      <td>1</td>\n",
       "      <td>Lace, says size small but fits medium perfectl...</td>\n",
       "    </tr>\n",
       "    <tr>\n",
       "      <th>1482531</th>\n",
       "      <td>1482531</td>\n",
       "      <td>Little mermaid handmade dress</td>\n",
       "      <td>2</td>\n",
       "      <td>Kids/Girls 2T-5T/Dresses</td>\n",
       "      <td>Disney</td>\n",
       "      <td>2.708050</td>\n",
       "      <td>0</td>\n",
       "      <td>Little mermaid handmade dress never worn size 2t</td>\n",
       "    </tr>\n",
       "    <tr>\n",
       "      <th>1482532</th>\n",
       "      <td>1482532</td>\n",
       "      <td>21 day fix containers and eating plan</td>\n",
       "      <td>2</td>\n",
       "      <td>Sports &amp; Outdoors/Exercise/Fitness accessories</td>\n",
       "      <td>sem marca</td>\n",
       "      <td>2.564949</td>\n",
       "      <td>0</td>\n",
       "      <td>Used once or twice, still in great shape.</td>\n",
       "    </tr>\n",
       "    <tr>\n",
       "      <th>1482533</th>\n",
       "      <td>1482533</td>\n",
       "      <td>World markets lanterns</td>\n",
       "      <td>3</td>\n",
       "      <td>Home/Home Décor/Home Décor Accents</td>\n",
       "      <td>sem marca</td>\n",
       "      <td>3.828641</td>\n",
       "      <td>1</td>\n",
       "      <td>There is 2 of each one that you see! So 2 red ...</td>\n",
       "    </tr>\n",
       "    <tr>\n",
       "      <th>1482534</th>\n",
       "      <td>1482534</td>\n",
       "      <td>Brand new lux de ville wallet</td>\n",
       "      <td>1</td>\n",
       "      <td>Women/Women's Accessories/Wallets</td>\n",
       "      <td>sem marca</td>\n",
       "      <td>3.135494</td>\n",
       "      <td>0</td>\n",
       "      <td>New with tag, red with sparkle. Firm price, no...</td>\n",
       "    </tr>\n",
       "  </tbody>\n",
       "</table>\n",
       "</div>"
      ],
      "text/plain": [
       "         train_id                                   name  item_condition_id                                   category_name         brand_name     price  shipping                                   item_description\n",
       "1482525   1482525    Red Victoria's Secret bra w sequins                  2                            Women/Underwear/Bras               PINK  2.079442         1  Removable straps to make strapless Size: 34 B ...\n",
       "1482526   1482526   Harry Potter Shirt! Women M/ Girl XL                  2                   Women/Tops & Blouses/T-Shirts          sem marca  2.564949         0  Great Harry Potter Shirt! \"Hogwarts, School of...\n",
       "1482527   1482527  Blk/white ribbed mock neck bodysuit M                  1                     Women/Tops & Blouses/Blouse          sem marca  2.397895         1  Brand new black and white ribbed mock neck bod...\n",
       "1482528   1482528    Victoria's Secret Tankini Sz. Large                  2              Women/Athletic Apparel/Sports Bras  Victoria's Secret  2.944439         1  Purple and Paisley Victoria's Secret Tankini S...\n",
       "1482529   1482529                          Men's UA [rm]                  2              Men/Athletic Apparel/Shirts & Tops       Under Armour  3.555348         0  [rm] for the set both in perfect condition no ...\n",
       "1482530   1482530             Free People Inspired Dress                  2                          Women/Dresses/Mid-Calf        Free People  3.044522         1  Lace, says size small but fits medium perfectl...\n",
       "1482531   1482531          Little mermaid handmade dress                  2                        Kids/Girls 2T-5T/Dresses             Disney  2.708050         0   Little mermaid handmade dress never worn size 2t\n",
       "1482532   1482532  21 day fix containers and eating plan                  2  Sports & Outdoors/Exercise/Fitness accessories          sem marca  2.564949         0          Used once or twice, still in great shape.\n",
       "1482533   1482533                 World markets lanterns                  3              Home/Home Décor/Home Décor Accents          sem marca  3.828641         1  There is 2 of each one that you see! So 2 red ...\n",
       "1482534   1482534          Brand new lux de ville wallet                  1               Women/Women's Accessories/Wallets          sem marca  3.135494         0  New with tag, red with sparkle. Firm price, no..."
      ]
     },
     "execution_count": 50,
     "metadata": {},
     "output_type": "execute_result"
    }
   ],
   "source": [
    "df5.tail(10)"
   ]
  },
  {
   "cell_type": "code",
   "execution_count": 52,
   "id": "6e508500",
   "metadata": {
    "ExecuteTime": {
     "end_time": "2022-06-09T03:27:27.646677Z",
     "start_time": "2022-06-09T03:27:27.375884Z"
    }
   },
   "outputs": [
    {
     "data": {
      "text/plain": [
       "array(['sem marca', 'Razer', 'Target', ..., 'Astroglide',\n",
       "       'Cumberland Bay', 'Kids Only'], dtype=object)"
      ]
     },
     "execution_count": 52,
     "metadata": {},
     "output_type": "execute_result"
    }
   ],
   "source": [
    "df5[\"brand_name\"].unique()"
   ]
  },
  {
   "cell_type": "code",
   "execution_count": 80,
   "id": "f7694726",
   "metadata": {
    "ExecuteTime": {
     "end_time": "2022-02-19T21:16:36.238664Z",
     "start_time": "2022-02-19T21:16:34.488390Z"
    }
   },
   "outputs": [],
   "source": [
    "# variáveis categóricas\n",
    "\n",
    "# One Hot Encoding\n",
    "# shipping\n",
    "df5 = pd.get_dummies( df5, prefix=[\"shipping\"], columns=[\"shipping\"])\n",
    "\n",
    "# Ordinal Encoding\n",
    "# item_condition_id\n",
    "ord1 = OrdinalEncoder()\n",
    "df5['item_condition_id'] = ord1.fit_transform ( df5[\"item_condition_id\"])\n",
    "\n",
    "# Label Encoding\n",
    "# category_name\n",
    "le = LabelEncoder()\n",
    "df5[\"category_name\"] = le.fit_transform ( df5[\"category_name\"])\n",
    "\n",
    "# Target Encoding\n",
    "# brand_name\n",
    "te = TargetEncoder()\n",
    "df5[\"brand_name\"] = te.fit_transform ( df5[\"brand_name\"])\n",
    "\n",
    "\n",
    "# Frequency Encoding\n",
    "# item_description\n",
    "fe = FrequencyEncoder()\n",
    "df5[\"item_description\"] = fe.fit_transform ( df5[\"item_description\"])\n"
   ]
  },
  {
   "cell_type": "markdown",
   "id": "b3106ba0",
   "metadata": {},
   "source": [
    "### 5.3.2 Response Variable Transformation"
   ]
  },
  {
   "cell_type": "code",
   "execution_count": 47,
   "id": "2e9ce6d7",
   "metadata": {
    "ExecuteTime": {
     "end_time": "2022-06-09T03:15:41.433132Z",
     "start_time": "2022-06-09T03:15:41.289742Z"
    }
   },
   "outputs": [],
   "source": [
    "df5[\"price\"] = np.log1p( df5[\"price\"])"
   ]
  },
  {
   "cell_type": "markdown",
   "id": "32242f2a",
   "metadata": {},
   "source": [
    "# 6.0 Feature Selection\n",
    "### implementando o Boruta (algoritmo)"
   ]
  },
  {
   "cell_type": "code",
   "execution_count": 48,
   "id": "1a03742f",
   "metadata": {
    "ExecuteTime": {
     "end_time": "2022-06-09T03:15:47.282449Z",
     "start_time": "2022-06-09T03:15:45.438918Z"
    }
   },
   "outputs": [],
   "source": [
    "df6 = df5.copy()"
   ]
  },
  {
   "cell_type": "markdown",
   "id": "8d9174f5",
   "metadata": {},
   "source": [
    "## 6.1 Split dataframe into training and test dataset"
   ]
  },
  {
   "cell_type": "code",
   "execution_count": 84,
   "id": "de5182f1",
   "metadata": {
    "ExecuteTime": {
     "end_time": "2022-02-16T00:15:38.687143Z",
     "start_time": "2022-02-16T00:15:37.527376Z"
    }
   },
   "outputs": [],
   "source": [
    "# deletar as variáveis originais\n",
    "\n",
    "# aqui são as colunas que iremos deletar\n",
    "cols_drop = [\" \"]\n",
    "\n",
    "# recriar dataset sem as colunas que foram retiradas\n",
    "df6 = df6.drop(cols_drop, axis=1)"
   ]
  },
  {
   "cell_type": "markdown",
   "id": "766c9856",
   "metadata": {},
   "source": [
    "## 6.2 Boruta as Feature Selector"
   ]
  },
  {
   "cell_type": "code",
   "execution_count": null,
   "id": "3d9126bf",
   "metadata": {},
   "outputs": [],
   "source": [
    "# implementação do Boruta\n",
    "\n",
    "# training and test dataset for Boruta\n",
    "x_train_n = x_train.drop([\"price\"], axis=1).values\n",
    "y_train_n = y_train.values.ravel()\n",
    "\n",
    "#definindo Random Forest Regressor\n",
    "rf = RandomForestRegressor(n_jobs=-1)\n",
    "\n",
    "#definindo Boruta\n",
    "boruta = BorutaPy(rf, n_estimators=\"auto\", verbose=2, random_state=42).fit(x_train_n, y_train_n)\n"
   ]
  },
  {
   "cell_type": "markdown",
   "id": "79f28c37",
   "metadata": {},
   "source": [
    "### 6.2.1 Best Features from Boruta"
   ]
  },
  {
   "cell_type": "code",
   "execution_count": null,
   "id": "bb538669",
   "metadata": {},
   "outputs": [],
   "source": [
    "# variáveis que o boruta rankeou/selecionou como mais importantes\n",
    "cols_selected = boruta.support_.tolist()\n",
    "\n",
    "## best features\n",
    "x_train_fs = x_train.drop([\"price\"], axis=1)\n",
    "cols_selected_boruta = x_train_fs.iloc[:, cols_selected].columns.to_list()\n",
    "\n",
    "# colunas que o boruta não rankeou/selecionou\n",
    "cols_not_selected_boruta = list(np.setdiff1d(x_train_fs.columns, cols_selected_boruta))\n"
   ]
  },
  {
   "cell_type": "markdown",
   "id": "e120ead2",
   "metadata": {},
   "source": [
    "## 6.3 Manual Feature Selection"
   ]
  },
  {
   "cell_type": "code",
   "execution_count": 84,
   "id": "0355a0a2",
   "metadata": {
    "ExecuteTime": {
     "end_time": "2022-02-19T21:17:09.019616Z",
     "start_time": "2022-02-19T21:17:09.012195Z"
    }
   },
   "outputs": [],
   "source": [
    "# acrescentar a lista o month_sin e week_of_year_sin\n",
    "cols_selected_boruta = [\n",
    "     ' ',\n",
    "     ' ',\n",
    "     ' ',\n",
    "     ' ',\n",
    "     ' ',\n",
    "     ' ',\n",
    "     ' ',\n",
    "     ' ',\n",
    "     ' ',\n",
    "     ' ',\n",
    "     ' ',\n",
    "         ]\n",
    "\n",
    "# columns to add\n",
    "feat_to_add = [\"price\"]\n",
    "\n",
    "# final features\n",
    "cols_selected_boruta_full = cols_selected_boruta.copy()\n",
    "cols_selected_boruta_full.extend(feat_to_add)\n"
   ]
  },
  {
   "cell_type": "markdown",
   "id": "78a17148",
   "metadata": {},
   "source": [
    "# 7.0 Machine Learning Modelling"
   ]
  },
  {
   "cell_type": "code",
   "execution_count": null,
   "id": "002a3a30",
   "metadata": {
    "ExecuteTime": {
     "end_time": "2022-02-04T18:37:25.459318Z",
     "start_time": "2022-02-04T18:37:25.090717Z"
    }
   },
   "outputs": [],
   "source": [
    "X_train = x_train[cols_selected_boruta]\n",
    "X_test = x_test[cols_selected_boruta]\n",
    "\n",
    "# Time Series Data Preparation\n",
    "x_training = x_train[cols_selected_boruta_full]"
   ]
  },
  {
   "cell_type": "markdown",
   "id": "e67c309f",
   "metadata": {},
   "source": [
    "## 7.2 Linear Regression Model"
   ]
  },
  {
   "cell_type": "code",
   "execution_count": null,
   "id": "e7976273",
   "metadata": {},
   "outputs": [],
   "source": [
    "# model\n",
    "lr = LinearRegression().fit(X_train, y_train)\n",
    "\n",
    "# prediction\n",
    "yhat_lr = lr.predict(X_test)\n",
    "\n",
    "# performance\n",
    "lr_result = ml_error(\"Linear Regression\", np.expm1(y_test), np.expm1(yhat_lr))\n",
    "lr_result"
   ]
  },
  {
   "cell_type": "markdown",
   "id": "ced2e1a7",
   "metadata": {},
   "source": [
    "### 7.2.1 Linear Regression Model - Cross Validation"
   ]
  },
  {
   "cell_type": "code",
   "execution_count": null,
   "id": "9283b62f",
   "metadata": {},
   "outputs": [],
   "source": [
    "lr_result_cv = cross_validation(X_training, 5, \"Linear Regression\", lr, verbose=False)\n",
    "    "
   ]
  },
  {
   "cell_type": "code",
   "execution_count": null,
   "id": "13a7708c",
   "metadata": {},
   "outputs": [],
   "source": [
    "lr_result_cv"
   ]
  },
  {
   "cell_type": "markdown",
   "id": "469e4e30",
   "metadata": {},
   "source": [
    "## 7.3 Linear Regression Regularized Model - Lasso"
   ]
  },
  {
   "cell_type": "code",
   "execution_count": null,
   "id": "90c4c54c",
   "metadata": {
    "scrolled": true
   },
   "outputs": [],
   "source": [
    "# model\n",
    "lrr = Lasso(alpha=0.01).fit(X_train, y_train)\n",
    "# prediction\n",
    "yhat_lrr = lrr.predict(X_test)\n",
    "\n",
    "# performance\n",
    "lrr_result = ml_error(\"Linear Regression - Lasso\", np.expm1(y_test), np.expm1(yhat_lrr))\n",
    "lrr_result"
   ]
  },
  {
   "cell_type": "markdown",
   "id": "a9e29ddd",
   "metadata": {},
   "source": [
    "### 7.3.1 Lasso - Cross Validation"
   ]
  },
  {
   "cell_type": "code",
   "execution_count": null,
   "id": "66ff8eaa",
   "metadata": {
    "ExecuteTime": {
     "end_time": "2022-02-04T15:11:24.411020Z",
     "start_time": "2022-02-04T15:11:24.386026Z"
    }
   },
   "outputs": [],
   "source": [
    "lrr_result_cv = cross_validation(X_training, 5, \"Lasso\", lrr, verbose=False)\n",
    "lrr_result_cv\n"
   ]
  },
  {
   "cell_type": "markdown",
   "id": "e9375faf",
   "metadata": {},
   "source": [
    "## 7.4 Random Forest Regressor"
   ]
  },
  {
   "cell_type": "code",
   "execution_count": null,
   "id": "422bc2bc",
   "metadata": {},
   "outputs": [],
   "source": [
    "# model\n",
    "rf = RandomForestRegressor(n_estimators=100, n_jobs=-1, random_state=42).fit(X_train, y_train)  \n",
    "\n",
    "# prediction\n",
    "yhat_rf = rf.predict(X_test)\n",
    "\n",
    "# performance\n",
    "rf_result = ml_error(\"Random Forest Regressor\", np.expm1(y_test), np.expm1(yhat_rf))\n",
    "rf_result"
   ]
  },
  {
   "cell_type": "markdown",
   "id": "e50505d4",
   "metadata": {},
   "source": [
    "### 7.4.1 Random Forest Regressor - Cross Validation"
   ]
  },
  {
   "cell_type": "code",
   "execution_count": null,
   "id": "cd597348",
   "metadata": {},
   "outputs": [],
   "source": [
    "rf_result_cv = cross_validation(X_training, 5, \"Random Forest Regressor\", rf, verbose=True)\n",
    "rf_result_cv\n"
   ]
  },
  {
   "cell_type": "markdown",
   "id": "2210b54c",
   "metadata": {},
   "source": [
    "## 7.5 XGBoost Regressor"
   ]
  },
  {
   "cell_type": "code",
   "execution_count": null,
   "id": "c8faf0c0",
   "metadata": {
    "ExecuteTime": {
     "end_time": "2022-02-04T18:34:29.829224Z",
     "start_time": "2022-02-04T18:29:29.864225Z"
    }
   },
   "outputs": [],
   "source": [
    "# model\n",
    "model_xgb = xgb.XGBRegressor( objective=\"reg:squarederror\",\n",
    "                              n_estimators=100, \n",
    "                              eta=0.01,\n",
    "                              max_depth=10,\n",
    "                              subsample=0.7,\n",
    "                              colsample_bytree=0.9).fit(X_train, y_train)\n",
    "# prediction\n",
    "yhat_xgb = model_xgb.predict(X_test)\n",
    "\n",
    "# performance\n",
    "xgb_result = ml_error(\"XGBoost Regressor\", np.expm1(y_test), np.expm1(yhat_xgb))\n",
    "xgb_result"
   ]
  },
  {
   "cell_type": "markdown",
   "id": "aece1744",
   "metadata": {},
   "source": [
    "### 7.5.1 XBoost Regressor - Cross Validation"
   ]
  },
  {
   "cell_type": "code",
   "execution_count": null,
   "id": "6e40f396",
   "metadata": {},
   "outputs": [],
   "source": [
    "xgb_result_cv = cross_validation(X_training, 5, \"XGBoost Regressor\", model_xgb, verbose=False)\n",
    "xgb_result_cv\n"
   ]
  },
  {
   "cell_type": "markdown",
   "id": "068ca20e",
   "metadata": {},
   "source": [
    "## 7.6 Compare Model's Performance"
   ]
  },
  {
   "cell_type": "markdown",
   "id": "181cf0ef",
   "metadata": {},
   "source": [
    "### 7.6.1 Single Performance"
   ]
  },
  {
   "cell_type": "code",
   "execution_count": null,
   "id": "28635bcf",
   "metadata": {},
   "outputs": [],
   "source": [
    "modelling_result = pd.concat([lr_result, lrr_result, rf_result, xgb_result])\n",
    "modelling_result.sort_values(\"RMSE\")\n"
   ]
  },
  {
   "cell_type": "markdown",
   "id": "5c771805",
   "metadata": {},
   "source": [
    "### 7.6.2 Real Performance - Cross Validation"
   ]
  },
  {
   "cell_type": "code",
   "execution_count": null,
   "id": "b483fa19",
   "metadata": {},
   "outputs": [],
   "source": [
    "modelling_result_cv = pd.concat([lr_result_cv, lrr_result_cv, rf_result_cv, xgb_result_cv])\n",
    "modelling_result_cv\n"
   ]
  }
 ],
 "metadata": {
  "kernelspec": {
   "display_name": "Python 3 (ipykernel)",
   "language": "python",
   "name": "python3"
  },
  "language_info": {
   "codemirror_mode": {
    "name": "ipython",
    "version": 3
   },
   "file_extension": ".py",
   "mimetype": "text/x-python",
   "name": "python",
   "nbconvert_exporter": "python",
   "pygments_lexer": "ipython3",
   "version": "3.8.12"
  },
  "varInspector": {
   "cols": {
    "lenName": 16,
    "lenType": 16,
    "lenVar": 40
   },
   "kernels_config": {
    "python": {
     "delete_cmd_postfix": "",
     "delete_cmd_prefix": "del ",
     "library": "var_list.py",
     "varRefreshCmd": "print(var_dic_list())"
    },
    "r": {
     "delete_cmd_postfix": ") ",
     "delete_cmd_prefix": "rm(",
     "library": "var_list.r",
     "varRefreshCmd": "cat(var_dic_list()) "
    }
   },
   "types_to_exclude": [
    "module",
    "function",
    "builtin_function_or_method",
    "instance",
    "_Feature"
   ],
   "window_display": false
  }
 },
 "nbformat": 4,
 "nbformat_minor": 5
}
